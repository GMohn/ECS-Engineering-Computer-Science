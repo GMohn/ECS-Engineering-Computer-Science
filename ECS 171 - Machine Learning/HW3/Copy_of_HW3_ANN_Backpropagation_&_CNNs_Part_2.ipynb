{
  "cells": [
    {
      "cell_type": "markdown",
      "source": [
        "### Download the data\n",
        "Let's download and uncompress our data and images here:"
      ],
      "metadata": {
        "id": "dhTEdM56b3-n"
      }
    },
    {
      "cell_type": "code",
      "source": [
        "import platform\n",
        "display(platform.system())\n",
        "import os\n",
        "file_download_link = ''\n",
        "if os.name == 'nt':\n",
        "    print('Please download your dataset here:', file_download_link)\n",
        "else:\n",
        "    # We need to first download the data here:\n",
        "    file_download_link = 'https://www.dropbox.com/scl/fi/x4vhkglosags3qmg4h0p2/hw3data.zip?rlkey=kke6onzuc2rajohgislutjgg7&dl=0'\n",
        "    !wget -O data.zip \"$file_download_link\" -o /dev/null\n",
        "    !unzip data.zip > /dev/null"
      ],
      "metadata": {
        "id": "gMPNGHDXbxEw",
        "colab": {
          "base_uri": "https://localhost:8080/",
          "height": 53
        },
        "outputId": "362641f2-53ef-433c-855f-57cadee6636f"
      },
      "execution_count": 152,
      "outputs": [
        {
          "output_type": "display_data",
          "data": {
            "text/plain": [
              "'Linux'"
            ],
            "application/vnd.google.colaboratory.intrinsic+json": {
              "type": "string"
            }
          },
          "metadata": {}
        },
        {
          "output_type": "stream",
          "name": "stdout",
          "text": [
            "replace assets/flower.png? [y]es, [n]o, [A]ll, [N]one, [r]ename: A\n"
          ]
        }
      ]
    },
    {
      "cell_type": "code",
      "source": [
        "# If your data is on google drive then uncomment the code below to access\n",
        "# your google drive.\n",
        "#from google.colab import drive\n",
        "#drive.mount('/content/drive')"
      ],
      "metadata": {
        "id": "k8pzndEXoGoF"
      },
      "execution_count": 153,
      "outputs": []
    },
    {
      "cell_type": "markdown",
      "source": [
        "## Running Keras on our Titanic dataset (15 points)\n",
        "\n",
        "### Q1: We will now implement customization via Keras as the examples from Part 1 are specific to their respective datasets and are for example only to work through for learning purposes only. **They will not properly run if customized**"
      ],
      "metadata": {
        "id": "PUrkSv1vSaRQ"
      }
    },
    {
      "cell_type": "code",
      "source": [
        "# Prerequisite library imports\n",
        "import pandas as pd\n",
        "import tensorflow as tf\n",
        "import keras\n",
        "from sklearn.model_selection import train_test_split\n",
        "from sklearn.preprocessing import MinMaxScaler\n",
        "from sklearn.metrics import classification_report, confusion_matrix\n",
        "from keras.models import Sequential\n",
        "from keras.layers import Dense, Conv2D, MaxPooling2D, Flatten, Input\n",
        "from keras.models import Model\n",
        "# Let's reimport our data\n",
        "df = pd.read_csv('./data/titanic/train_data.csv')\n",
        "X = df.drop(['Unnamed: 0', 'PassengerId'], axis=1)\n",
        "y = df['Survived']\n",
        "X = X.drop(columns = 'Survived')"
      ],
      "metadata": {
        "id": "qwAdEE9sSwUH"
      },
      "execution_count": 154,
      "outputs": []
    },
    {
      "cell_type": "markdown",
      "metadata": {
        "id": "LVC85pIxYnae"
      },
      "source": [
        "### 1.1) Above we use the keras libraries to build the model. Here we want to implement a form of scaling to your data either minmax normalization or standardization using the sklearn.preprocessing libraries. Justify why you chose one over the other. (5 points)"
      ]
    },
    {
      "cell_type": "code",
      "source": [
        "# Please use your scalarization of X here: then run the cell below to split your training and test data.\n",
        "# Scalarization means normalizing or standardizing\n",
        "scaler = MinMaxScaler()\n",
        "X_scaled = scaler.fit_transform(X)"
      ],
      "metadata": {
        "id": "c4f1E7_QnuJE"
      },
      "execution_count": 155,
      "outputs": []
    },
    {
      "cell_type": "markdown",
      "source": [
        "Used minmax normalization because it seems fare and age are already normalized and it doesnt seem like there are many outliers."
      ],
      "metadata": {
        "id": "npsDBncttA4f"
      }
    },
    {
      "cell_type": "code",
      "source": [
        "X_train, X_test, y_train, y_test = train_test_split(X, y, test_size=0.2, random_state=21)\n",
        "display(X_train.shape)\n",
        "display(y_train.shape)"
      ],
      "metadata": {
        "id": "xKhAcFmxs5es",
        "colab": {
          "base_uri": "https://localhost:8080/",
          "height": 53
        },
        "outputId": "76e5fd04-2ed7-4d9b-fbbe-185610d6d4d9"
      },
      "execution_count": 156,
      "outputs": [
        {
          "output_type": "display_data",
          "data": {
            "text/plain": [
              "(633, 14)"
            ]
          },
          "metadata": {}
        },
        {
          "output_type": "display_data",
          "data": {
            "text/plain": [
              "(633,)"
            ]
          },
          "metadata": {}
        }
      ]
    },
    {
      "cell_type": "markdown",
      "metadata": {
        "id": "6ru-Sg5jYnae"
      },
      "source": [
        "### 1.2) Using the example for traindata above create a model using different activation functions by setting MYACTIVATIONFXN: (5 points)\n",
        "\n",
        "Here is the example code you can use to build your own DNN after you check the shape of your X matrix\n",
        "```python\n",
        "# Hint! Start with model.add(Dense(units = 16, activation = 'relu', input_dim = ?))\n",
        "# Make sure the input_dim parameter is set to the number of features in your X matrix.\n",
        "MYACTIVATIONFXN = 'SOMEFXN'\n",
        "model.add(Dense(units = 14, activation = MYACTIVATIONFXN, input_dim = ?))\n",
        "```\n"
      ]
    },
    {
      "cell_type": "code",
      "source": [
        "# Let's initialize our model\n",
        "model = Sequential() # Initialising the ANN"
      ],
      "metadata": {
        "id": "mPxlO3Xwtayb"
      },
      "execution_count": 157,
      "outputs": []
    },
    {
      "cell_type": "code",
      "source": [
        "# Let's Check the shape of our data!\n",
        "# This should match your input layer\n",
        "X.shape"
      ],
      "metadata": {
        "id": "SHWjAD8Otzbl",
        "colab": {
          "base_uri": "https://localhost:8080/"
        },
        "outputId": "e504d4b0-ec3f-4dad-f51a-2bcd2eb76566"
      },
      "execution_count": 158,
      "outputs": [
        {
          "output_type": "execute_result",
          "data": {
            "text/plain": [
              "(792, 14)"
            ]
          },
          "metadata": {},
          "execution_count": 158
        }
      ]
    },
    {
      "cell_type": "code",
      "execution_count": 159,
      "metadata": {
        "id": "U6D4qvTGYnaf"
      },
      "outputs": [],
      "source": [
        "# If you decide to initially use a sigmoid, make sure the number of units matches the number of targets\n",
        "# in this case we only have 1 target so for sigmoid you need to set units to 1\n",
        "# Please use the example code above in the hint."
      ]
    },
    {
      "cell_type": "code",
      "source": [
        "# Write your model, and training here\n",
        "MYACTIVATIONFXN = 'relu'\n",
        "\n",
        "model.add(Dense(units = 16, activation = MYACTIVATIONFXN, input_dim = X_train.shape[1]))\n",
        "model.add(Dense(units = 14, activation = MYACTIVATIONFXN))\n",
        "\n",
        "model.add(Dense(units = 1, activation = 'sigmoid'))\n"
      ],
      "metadata": {
        "id": "jIHVwzIYSZjB"
      },
      "execution_count": 160,
      "outputs": []
    },
    {
      "cell_type": "markdown",
      "source": [
        "### Now lets compile our model using the function compile\n",
        "### Here we will use rmsprop as an optimizer and binary crossentropy as our loss function"
      ],
      "metadata": {
        "id": "yfInuSI-UH0O"
      }
    },
    {
      "cell_type": "code",
      "source": [
        "model.compile(optimizer = 'rmsprop', loss = 'binary_crossentropy')\n"
      ],
      "metadata": {
        "id": "FPF064_rUIGk"
      },
      "execution_count": 161,
      "outputs": []
    },
    {
      "cell_type": "markdown",
      "source": [
        "### Here we will run our ANN using the fit function using a batch size of 1 and 10 epochs (In the examples of Part 1, iterations are used instead of epochs)"
      ],
      "metadata": {
        "id": "8xXvT24DUlRF"
      }
    },
    {
      "cell_type": "code",
      "source": [
        "# I have provided the code for you here:\n",
        "# Feel free to play around with the code as you please\n",
        "model.fit(X_train.astype('float'), y_train, batch_size = 1, epochs = 10)"
      ],
      "metadata": {
        "id": "ELg4LXeYUpdx",
        "colab": {
          "base_uri": "https://localhost:8080/"
        },
        "outputId": "c4c563d5-0eef-4adf-dd9e-6e98f6df7672"
      },
      "execution_count": 162,
      "outputs": [
        {
          "output_type": "stream",
          "name": "stdout",
          "text": [
            "Epoch 1/10\n",
            "633/633 [==============================] - 2s 2ms/step - loss: 0.6184\n",
            "Epoch 2/10\n",
            "633/633 [==============================] - 1s 2ms/step - loss: 0.5236\n",
            "Epoch 3/10\n",
            "633/633 [==============================] - 1s 2ms/step - loss: 0.4738\n",
            "Epoch 4/10\n",
            "633/633 [==============================] - 1s 2ms/step - loss: 0.4502\n",
            "Epoch 5/10\n",
            "633/633 [==============================] - 2s 2ms/step - loss: 0.4437\n",
            "Epoch 6/10\n",
            "633/633 [==============================] - 1s 2ms/step - loss: 0.4380\n",
            "Epoch 7/10\n",
            "633/633 [==============================] - 1s 2ms/step - loss: 0.4328\n",
            "Epoch 8/10\n",
            "633/633 [==============================] - 1s 2ms/step - loss: 0.4332\n",
            "Epoch 9/10\n",
            "633/633 [==============================] - 1s 2ms/step - loss: 0.4362\n",
            "Epoch 10/10\n",
            "633/633 [==============================] - 1s 2ms/step - loss: 0.4309\n"
          ]
        },
        {
          "output_type": "execute_result",
          "data": {
            "text/plain": [
              "<keras.callbacks.History at 0x79cd2b21bd30>"
            ]
          },
          "metadata": {},
          "execution_count": 162
        }
      ]
    },
    {
      "cell_type": "markdown",
      "metadata": {
        "id": "2AOBK9hbYnaf"
      },
      "source": [
        "### 1.3) How does the error (in terms of precission and recall) differ between your model and the example? Write in one paragraph or less how the error differs and why. (5 points)"
      ]
    },
    {
      "cell_type": "code",
      "execution_count": 163,
      "metadata": {
        "id": "fP8EYlBUYnaf",
        "colab": {
          "base_uri": "https://localhost:8080/"
        },
        "outputId": "044a930c-7e3e-485a-d778-63eb50bb43f8"
      },
      "outputs": [
        {
          "output_type": "stream",
          "name": "stdout",
          "text": [
            "Precision:  0.42138364779874216\n",
            "Recall:  0.3522012578616352\n"
          ]
        }
      ],
      "source": [
        "# Hint! Use the predict function and threshold your results. 0.5 is reasonable.\n",
        "# Please see the BCC jupyter notebook to see how to do this\n",
        "import numpy as np\n",
        "yhat_probs = model.predict(X_test, verbose=0)\n",
        "yhat_classes = np.where(yhat_probs > 0.5, 1, 0)\n",
        "TP = np.sum(np.logical_and(y_test == 1, yhat_classes == 1))\n",
        "FP = np.sum(np.logical_and(y_test == 0, yhat_classes == 1))\n",
        "FN = np.sum(np.logical_and(y_test == 1, yhat_classes == 0))\n",
        "\n",
        "precision = TP / (TP + FP)\n",
        "recall = TP / (TP + FN)\n",
        "\n",
        "print('Precision: '  ,precision)\n",
        "print('Recall: ' ,recall)"
      ]
    },
    {
      "cell_type": "markdown",
      "source": [
        "For precision about 42.1% of predicted positives were correct out of all predicited positives. For recall, 30.2% predicted positives were correct from the model and therefore higher false negatives.   "
      ],
      "metadata": {
        "id": "Vq_Kk9nb7QXV"
      }
    },
    {
      "cell_type": "markdown",
      "metadata": {
        "id": "NfKWyWNHYnaf"
      },
      "source": [
        "## 2) Complex fit of flowers (30 points)"
      ]
    },
    {
      "cell_type": "markdown",
      "metadata": {
        "id": "A_PTyVq4Ynaf"
      },
      "source": [
        "The cool stuf starts with more complex functions. The [Deep learning course from Andrew Ng](https://www.coursera.org/learn/neural-networks-deep-learning?specialization=deep-learning) show a way to predict [Rose-functions](https://en.wikipedia.org/wiki/Rose_(mathematics)) using a model with multiple nodes. Lets try that as well!\n",
        "\n",
        "First we need to import the data:"
      ]
    },
    {
      "cell_type": "code",
      "execution_count": 164,
      "metadata": {
        "id": "qMMal0QFYnaf"
      },
      "outputs": [],
      "source": [
        "data = np.load('./data/rose/rose.npz')\n",
        "X, Y = data['X'], data['Y']"
      ]
    },
    {
      "cell_type": "markdown",
      "metadata": {
        "id": "Zo5iuacCYnaf"
      },
      "source": [
        "To give a feel how it looks, we will first plot the rose, which has 7 petals:"
      ]
    },
    {
      "cell_type": "code",
      "execution_count": 165,
      "metadata": {
        "id": "od7DDx7YYnaf"
      },
      "outputs": [],
      "source": [
        "import matplotlib.pyplot as plt\n",
        "def testModel(X, Y, h=0.1, f=1.05):\n",
        "    r = X.max()\n",
        "    xmesh, ymesh = np.meshgrid(np.arange(-r*f, r*f+h, h), np.arange(-r*f, r*f+h, h))\n",
        "    Z = model2.predict((np.c_[xmesh.ravel(), ymesh.ravel()]))\n",
        "    Z = (Z > 0.5) * 1\n",
        "    Z = Z.T.reshape(xmesh.shape)\n",
        "    plt.contourf(xmesh, ymesh, Z, cmap=plt.cm.OrRd)\n",
        "    plt.scatter(X[0, :], X[1, :], c=Y.flatten(), cmap=plt.cm.OrRd)"
      ]
    },
    {
      "cell_type": "code",
      "execution_count": 166,
      "metadata": {
        "id": "kuZmpnJAYnag",
        "colab": {
          "base_uri": "https://localhost:8080/",
          "height": 540
        },
        "outputId": "65b2f0f6-23fa-427f-8c9c-7f1a873f9e2f"
      },
      "outputs": [
        {
          "output_type": "execute_result",
          "data": {
            "text/plain": [
              "<matplotlib.collections.PathCollection at 0x79cd2b179ba0>"
            ]
          },
          "metadata": {},
          "execution_count": 166
        },
        {
          "output_type": "display_data",
          "data": {
            "text/plain": [
              "<Figure size 600x600 with 1 Axes>"
            ],
            "image/png": "[encoded data removed]"
          },
          "metadata": {}
        }
      ],
      "source": [
        "fig, ax = plt.subplots(1, 1, figsize=(6, 6))\n",
        "plt.scatter(X[0,:], X[1,:], c=Y.flatten())"
      ]
    },
    {
      "cell_type": "markdown",
      "source": [
        "#### Q2: We will now implement customization via Keras as the examples in Part 1 are specific to their respective datasets and are for example only to work through for learning purposes only. They will not properly run if customized"
      ],
      "metadata": {
        "id": "nJYtVl06a1Fu"
      }
    },
    {
      "cell_type": "code",
      "source": [
        "data = np.load('./data/rose/rose.npz')\n",
        "X, Y = data['X'].T, data['Y'].T\n",
        "print(X.shape)\n",
        "print(Y.shape)\n",
        "\n",
        "scaler = MinMaxScaler(feature_range=(0, 1))\n",
        "scaled_X = scaler.fit_transform(X)\n",
        "\n",
        "train_X, test_X, train_Y, test_Y = train_test_split(scaled_X, Y, train_size=0.8, random_state=42)\n",
        "\n",
        "model = keras.Sequential([\n",
        "    keras.layers.Dense(units=64, activation='relu'),\n",
        "    keras.layers.Dense(units=10, activation='softmax')\n",
        "])\n",
        "\n",
        "model.compile(optimizer='rmsprop', loss='sparse_categorical_crossentropy', metrics=['accuracy'])\n",
        "\n",
        "model.fit(train_X, train_Y, epochs=10, batch_size=32, validation_data=(test_X, test_Y))\n"
      ],
      "metadata": {
        "id": "cZF8N-qpbJ-M",
        "colab": {
          "base_uri": "https://localhost:8080/"
        },
        "outputId": "98c2bf4e-e9c2-49c8-db73-03bae089beca"
      },
      "execution_count": 168,
      "outputs": [
        {
          "output_type": "stream",
          "name": "stdout",
          "text": [
            "(688, 2)\n",
            "(688, 1)\n",
            "Epoch 1/10\n",
            "18/18 [==============================] - 1s 15ms/step - loss: 2.1560 - accuracy: 0.4164 - val_loss: 1.9978 - val_accuracy: 0.4855\n",
            "Epoch 2/10\n",
            "18/18 [==============================] - 0s 5ms/step - loss: 1.9165 - accuracy: 0.4164 - val_loss: 1.7818 - val_accuracy: 0.4855\n",
            "Epoch 3/10\n",
            "18/18 [==============================] - 0s 5ms/step - loss: 1.6995 - accuracy: 0.4164 - val_loss: 1.5683 - val_accuracy: 0.4855\n",
            "Epoch 4/10\n",
            "18/18 [==============================] - 0s 4ms/step - loss: 1.4870 - accuracy: 0.4164 - val_loss: 1.3653 - val_accuracy: 0.4855\n",
            "Epoch 5/10\n",
            "18/18 [==============================] - 0s 4ms/step - loss: 1.2885 - accuracy: 0.4164 - val_loss: 1.1882 - val_accuracy: 0.4855\n",
            "Epoch 6/10\n",
            "18/18 [==============================] - 0s 5ms/step - loss: 1.1195 - accuracy: 0.4236 - val_loss: 1.0456 - val_accuracy: 0.5145\n",
            "Epoch 7/10\n",
            "18/18 [==============================] - 0s 4ms/step - loss: 0.9852 - accuracy: 0.5182 - val_loss: 0.9378 - val_accuracy: 0.5145\n",
            "Epoch 8/10\n",
            "18/18 [==============================] - 0s 5ms/step - loss: 0.8815 - accuracy: 0.5836 - val_loss: 0.8612 - val_accuracy: 0.5145\n",
            "Epoch 9/10\n",
            "18/18 [==============================] - 0s 6ms/step - loss: 0.8108 - accuracy: 0.5836 - val_loss: 0.8078 - val_accuracy: 0.5145\n",
            "Epoch 10/10\n",
            "18/18 [==============================] - 0s 5ms/step - loss: 0.7652 - accuracy: 0.5836 - val_loss: 0.7760 - val_accuracy: 0.5145\n"
          ]
        },
        {
          "output_type": "execute_result",
          "data": {
            "text/plain": [
              "<keras.callbacks.History at 0x79cd287c6aa0>"
            ]
          },
          "metadata": {},
          "execution_count": 168
        }
      ]
    },
    {
      "cell_type": "markdown",
      "metadata": {
        "id": "IaSeK8fpYnah"
      },
      "source": [
        "### 2.1) Using the example above, try different number of nodes(units) and different activation functions. How does your loss change? (10 points)"
      ]
    },
    {
      "cell_type": "markdown",
      "source": [
        "As the nodes are increased, loss is decreased. the tanh function has less loss than the relu function but takes a little bit longer to evaluate."
      ],
      "metadata": {
        "id": "SRiAjFF7x44y"
      }
    },
    {
      "cell_type": "code",
      "source": [
        "model1 = keras.Sequential([\n",
        "    keras.layers.Dense(units=32, activation='relu'),\n",
        "    keras.layers.Dense(units=128, activation='relu'),\n",
        "    keras.layers.Dense(units=64, activation='relu'),\n",
        "    keras.layers.Dense(units=10, activation='sigmoid')\n",
        "])\n",
        "model1.compile(optimizer='rmsprop', loss='sparse_categorical_crossentropy', metrics=['accuracy'])\n",
        "model1.fit(train_X, train_Y, epochs=10, batch_size=32, validation_data=(test_X, test_Y))\n",
        "\n",
        "model2 = keras.Sequential([\n",
        "    keras.layers.Dense(units=32, activation='tanh'),\n",
        "    keras.layers.Dense(units=128, activation='tanh'),\n",
        "    keras.layers.Dense(units=64, activation='tanh'),\n",
        "    keras.layers.Dense(units=10, activation='sigmoid')\n",
        "])\n",
        "model2.compile(optimizer='rmsprop', loss='sparse_categorical_crossentropy', metrics=['accuracy'])\n",
        "model2.fit(train_X, train_Y, epochs=10, batch_size=32, validation_data=(test_X, test_Y))\n"
      ],
      "metadata": {
        "colab": {
          "base_uri": "https://localhost:8080/"
        },
        "id": "5rLKg2CE-f2w",
        "outputId": "1d05f0be-747c-4ee4-c510-8a89aa95da53"
      },
      "execution_count": 173,
      "outputs": [
        {
          "output_type": "stream",
          "name": "stdout",
          "text": [
            "Epoch 1/10\n",
            "18/18 [==============================] - 2s 23ms/step - loss: 1.8470 - accuracy: 0.4855 - val_loss: 1.3242 - val_accuracy: 0.5145\n",
            "Epoch 2/10\n",
            "18/18 [==============================] - 0s 9ms/step - loss: 0.9997 - accuracy: 0.5836 - val_loss: 0.8426 - val_accuracy: 0.5145\n",
            "Epoch 3/10\n",
            "18/18 [==============================] - 0s 9ms/step - loss: 0.7446 - accuracy: 0.5836 - val_loss: 0.7932 - val_accuracy: 0.5145\n",
            "Epoch 4/10\n",
            "18/18 [==============================] - 0s 8ms/step - loss: 0.6927 - accuracy: 0.5873 - val_loss: 0.7307 - val_accuracy: 0.5145\n",
            "Epoch 5/10\n",
            "18/18 [==============================] - 0s 7ms/step - loss: 0.6731 - accuracy: 0.5891 - val_loss: 0.6852 - val_accuracy: 0.5145\n",
            "Epoch 6/10\n",
            "18/18 [==============================] - 0s 7ms/step - loss: 0.6626 - accuracy: 0.5964 - val_loss: 0.7119 - val_accuracy: 0.4855\n",
            "Epoch 7/10\n",
            "18/18 [==============================] - 0s 10ms/step - loss: 0.6654 - accuracy: 0.5800 - val_loss: 0.6810 - val_accuracy: 0.5652\n",
            "Epoch 8/10\n",
            "18/18 [==============================] - 0s 9ms/step - loss: 0.6640 - accuracy: 0.5836 - val_loss: 0.6600 - val_accuracy: 0.5290\n",
            "Epoch 9/10\n",
            "18/18 [==============================] - 0s 7ms/step - loss: 0.6432 - accuracy: 0.6273 - val_loss: 0.6611 - val_accuracy: 0.6014\n",
            "Epoch 10/10\n",
            "18/18 [==============================] - 0s 7ms/step - loss: 0.6443 - accuracy: 0.6255 - val_loss: 0.6412 - val_accuracy: 0.5942\n",
            "Epoch 1/10\n",
            "18/18 [==============================] - 1s 24ms/step - loss: 1.1814 - accuracy: 0.5436 - val_loss: 0.8127 - val_accuracy: 0.5145\n",
            "Epoch 2/10\n",
            "18/18 [==============================] - 0s 8ms/step - loss: 0.7316 - accuracy: 0.5818 - val_loss: 0.7266 - val_accuracy: 0.4855\n",
            "Epoch 3/10\n",
            "18/18 [==============================] - 0s 8ms/step - loss: 0.6956 - accuracy: 0.5673 - val_loss: 0.7846 - val_accuracy: 0.5145\n",
            "Epoch 4/10\n",
            "18/18 [==============================] - 0s 6ms/step - loss: 0.6918 - accuracy: 0.5745 - val_loss: 0.6881 - val_accuracy: 0.4855\n",
            "Epoch 5/10\n",
            "18/18 [==============================] - 0s 5ms/step - loss: 0.6664 - accuracy: 0.5636 - val_loss: 0.6858 - val_accuracy: 0.5942\n",
            "Epoch 6/10\n",
            "18/18 [==============================] - 0s 5ms/step - loss: 0.6695 - accuracy: 0.5582 - val_loss: 0.6804 - val_accuracy: 0.4275\n",
            "Epoch 7/10\n",
            "18/18 [==============================] - 0s 5ms/step - loss: 0.6645 - accuracy: 0.5564 - val_loss: 0.6769 - val_accuracy: 0.4058\n",
            "Epoch 8/10\n",
            "18/18 [==============================] - 0s 5ms/step - loss: 0.6586 - accuracy: 0.5600 - val_loss: 0.7150 - val_accuracy: 0.5797\n",
            "Epoch 9/10\n",
            "18/18 [==============================] - 0s 6ms/step - loss: 0.6647 - accuracy: 0.5473 - val_loss: 0.7016 - val_accuracy: 0.5870\n",
            "Epoch 10/10\n",
            "18/18 [==============================] - 0s 5ms/step - loss: 0.6597 - accuracy: 0.5527 - val_loss: 0.6928 - val_accuracy: 0.5942\n"
          ]
        },
        {
          "output_type": "execute_result",
          "data": {
            "text/plain": [
              "<keras.callbacks.History at 0x79cd1cd832b0>"
            ]
          },
          "metadata": {},
          "execution_count": 173
        }
      ]
    },
    {
      "cell_type": "markdown",
      "metadata": {
        "id": "aVKN7RMLYnah"
      },
      "source": [
        "### 2.2) Calculate your new error for 2 different models using classification report. Also, using the metrics, explain why you see the same or why you see a different error. (10 points)"
      ]
    },
    {
      "cell_type": "markdown",
      "source": [
        "model 1 (3 layers with ReLU activation) has 59% accuracy while model 2 (3 layers with TanH activation) has 59% accuracy. based on precision and recall both models have a high rate of false positives and false negatives. This shows with the low f1-score."
      ],
      "metadata": {
        "id": "bBOQtUQlIMAz"
      }
    },
    {
      "cell_type": "code",
      "execution_count": 174,
      "metadata": {
        "id": "nvi8QHpjYnah",
        "colab": {
          "base_uri": "https://localhost:8080/"
        },
        "outputId": "b34cfb1a-e5fa-46aa-fa58-4b8cae082ba5"
      },
      "outputs": [
        {
          "output_type": "stream",
          "name": "stdout",
          "text": [
            "5/5 [==============================] - 0s 3ms/step\n",
            "Model 1 Classification Report:\n",
            "              precision    recall  f1-score   support\n",
            "\n",
            "           0       0.58      0.76      0.66        71\n",
            "           1       0.62      0.42      0.50        67\n",
            "\n",
            "    accuracy                           0.59       138\n",
            "   macro avg       0.60      0.59      0.58       138\n",
            "weighted avg       0.60      0.59      0.58       138\n",
            "\n",
            "5/5 [==============================] - 0s 3ms/step\n",
            "Model 2 Classification Report:\n",
            "              precision    recall  f1-score   support\n",
            "\n",
            "           0       1.00      0.21      0.35        71\n",
            "           1       0.54      1.00      0.71        67\n",
            "\n",
            "    accuracy                           0.59       138\n",
            "   macro avg       0.77      0.61      0.53       138\n",
            "weighted avg       0.78      0.59      0.52       138\n",
            "\n"
          ]
        }
      ],
      "source": [
        "from sklearn.metrics import classification_report\n",
        "\n",
        "# Model 1\n",
        "model1_predictions = model1.predict(test_X)\n",
        "model1_predicted_labels = np.argmax(model1_predictions, axis=1)\n",
        "model1_report = classification_report(test_Y, model1_predicted_labels)\n",
        "print(\"Model 1 Classification Report:\")\n",
        "print(model1_report)\n",
        "\n",
        "# Model 2\n",
        "model2_predictions = model2.predict(test_X)\n",
        "model2_predicted_labels = np.argmax(model2_predictions, axis=1)\n",
        "model2_report = classification_report(test_Y, model2_predicted_labels)\n",
        "print(\"Model 2 Classification Report:\")\n",
        "print(model2_report)\n",
        "\n"
      ]
    },
    {
      "cell_type": "markdown",
      "metadata": {
        "id": "TvcIw3pHYnah"
      },
      "source": [
        "### 2.3) Choose your best model! Now plot the new results using the plotting example shown above but using our newly trained best/coolest model. (10 points)"
      ]
    },
    {
      "cell_type": "code",
      "execution_count": 175,
      "metadata": {
        "id": "gK14EFkPYnai",
        "colab": {
          "base_uri": "https://localhost:8080/",
          "height": 322
        },
        "outputId": "b132b9ae-ef33-4c8d-ab83-ce61c02a2dad"
      },
      "outputs": [
        {
          "output_type": "stream",
          "name": "stdout",
          "text": [
            "16/16 [==============================] - 0s 2ms/step\n"
          ]
        },
        {
          "output_type": "error",
          "ename": "ValueError",
          "evalue": "ignored",
          "traceback": [
            "\u001b[0;31m---------------------------------------------------------------------------\u001b[0m",
            "\u001b[0;31mValueError\u001b[0m                                Traceback (most recent call last)",
            "\u001b[0;32m<ipython-input-175-ff94542e1875>\u001b[0m in \u001b[0;36m<cell line: 1>\u001b[0;34m()\u001b[0m\n\u001b[0;32m----> 1\u001b[0;31m \u001b[0mtestModel\u001b[0m\u001b[0;34m(\u001b[0m\u001b[0mtest_X\u001b[0m\u001b[0;34m,\u001b[0m \u001b[0mtest_Y\u001b[0m\u001b[0;34m)\u001b[0m\u001b[0;34m\u001b[0m\u001b[0;34m\u001b[0m\u001b[0m\n\u001b[0m",
            "\u001b[0;32m<ipython-input-165-fb3d4949ee4c>\u001b[0m in \u001b[0;36mtestModel\u001b[0;34m(X, Y, h, f)\u001b[0m\n\u001b[1;32m      5\u001b[0m     \u001b[0mZ\u001b[0m \u001b[0;34m=\u001b[0m \u001b[0mmodel2\u001b[0m\u001b[0;34m.\u001b[0m\u001b[0mpredict\u001b[0m\u001b[0;34m(\u001b[0m\u001b[0;34m(\u001b[0m\u001b[0mnp\u001b[0m\u001b[0;34m.\u001b[0m\u001b[0mc_\u001b[0m\u001b[0;34m[\u001b[0m\u001b[0mxmesh\u001b[0m\u001b[0;34m.\u001b[0m\u001b[0mravel\u001b[0m\u001b[0;34m(\u001b[0m\u001b[0;34m)\u001b[0m\u001b[0;34m,\u001b[0m \u001b[0mymesh\u001b[0m\u001b[0;34m.\u001b[0m\u001b[0mravel\u001b[0m\u001b[0;34m(\u001b[0m\u001b[0;34m)\u001b[0m\u001b[0;34m]\u001b[0m\u001b[0;34m)\u001b[0m\u001b[0;34m)\u001b[0m\u001b[0;34m\u001b[0m\u001b[0;34m\u001b[0m\u001b[0m\n\u001b[1;32m      6\u001b[0m     \u001b[0mZ\u001b[0m \u001b[0;34m=\u001b[0m \u001b[0;34m(\u001b[0m\u001b[0mZ\u001b[0m \u001b[0;34m>\u001b[0m \u001b[0;36m0.5\u001b[0m\u001b[0;34m)\u001b[0m \u001b[0;34m*\u001b[0m \u001b[0;36m1\u001b[0m\u001b[0;34m\u001b[0m\u001b[0;34m\u001b[0m\u001b[0m\n\u001b[0;32m----> 7\u001b[0;31m     \u001b[0mZ\u001b[0m \u001b[0;34m=\u001b[0m \u001b[0mZ\u001b[0m\u001b[0;34m.\u001b[0m\u001b[0mT\u001b[0m\u001b[0;34m.\u001b[0m\u001b[0mreshape\u001b[0m\u001b[0;34m(\u001b[0m\u001b[0mxmesh\u001b[0m\u001b[0;34m.\u001b[0m\u001b[0mshape\u001b[0m\u001b[0;34m)\u001b[0m\u001b[0;34m\u001b[0m\u001b[0;34m\u001b[0m\u001b[0m\n\u001b[0m\u001b[1;32m      8\u001b[0m     \u001b[0mplt\u001b[0m\u001b[0;34m.\u001b[0m\u001b[0mcontourf\u001b[0m\u001b[0;34m(\u001b[0m\u001b[0mxmesh\u001b[0m\u001b[0;34m,\u001b[0m \u001b[0mymesh\u001b[0m\u001b[0;34m,\u001b[0m \u001b[0mZ\u001b[0m\u001b[0;34m,\u001b[0m \u001b[0mcmap\u001b[0m\u001b[0;34m=\u001b[0m\u001b[0mplt\u001b[0m\u001b[0;34m.\u001b[0m\u001b[0mcm\u001b[0m\u001b[0;34m.\u001b[0m\u001b[0mOrRd\u001b[0m\u001b[0;34m)\u001b[0m\u001b[0;34m\u001b[0m\u001b[0;34m\u001b[0m\u001b[0m\n\u001b[1;32m      9\u001b[0m     \u001b[0mplt\u001b[0m\u001b[0;34m.\u001b[0m\u001b[0mscatter\u001b[0m\u001b[0;34m(\u001b[0m\u001b[0mX\u001b[0m\u001b[0;34m[\u001b[0m\u001b[0;36m0\u001b[0m\u001b[0;34m,\u001b[0m \u001b[0;34m:\u001b[0m\u001b[0;34m]\u001b[0m\u001b[0;34m,\u001b[0m \u001b[0mX\u001b[0m\u001b[0;34m[\u001b[0m\u001b[0;36m1\u001b[0m\u001b[0;34m,\u001b[0m \u001b[0;34m:\u001b[0m\u001b[0;34m]\u001b[0m\u001b[0;34m,\u001b[0m \u001b[0mc\u001b[0m\u001b[0;34m=\u001b[0m\u001b[0mY\u001b[0m\u001b[0;34m.\u001b[0m\u001b[0mflatten\u001b[0m\u001b[0;34m(\u001b[0m\u001b[0;34m)\u001b[0m\u001b[0;34m,\u001b[0m \u001b[0mcmap\u001b[0m\u001b[0;34m=\u001b[0m\u001b[0mplt\u001b[0m\u001b[0;34m.\u001b[0m\u001b[0mcm\u001b[0m\u001b[0;34m.\u001b[0m\u001b[0mOrRd\u001b[0m\u001b[0;34m)\u001b[0m\u001b[0;34m\u001b[0m\u001b[0;34m\u001b[0m\u001b[0m\n",
            "\u001b[0;31mValueError\u001b[0m: cannot reshape array of size 4840 into shape (22,22)"
          ]
        }
      ],
      "source": [
        "testModel(test_X, test_Y)\n",
        "# not sure how to do this"
      ]
    },
    {
      "cell_type": "markdown",
      "metadata": {
        "id": "oRRH5UW1Ynai"
      },
      "source": [
        "## 3) Cats vs not cats (40 points)"
      ]
    },
    {
      "cell_type": "markdown",
      "source": [
        "#### Q3: Your turn! Let's do this!!!"
      ],
      "metadata": {
        "id": "KNymHxiNiY4S"
      }
    },
    {
      "cell_type": "code",
      "source": [
        "data = np.load('./data/cats/cats.npz')\n",
        "X_train, y_train = data['Xtrain'].transpose(), data['Ytrain'].transpose()\n",
        "X_test, y_test = data['Xtest'].transpose(), data['Ytest'].transpose()\n",
        "display(X_train.shape)\n",
        "display(y_train.shape)\n",
        "\n",
        "# Let's initialize our model\n",
        "model = Sequential() # Initialising the ANN"
      ],
      "metadata": {
        "id": "UVrE_ZFuiarQ",
        "colab": {
          "base_uri": "https://localhost:8080/",
          "height": 53
        },
        "outputId": "4ce9af20-6eda-4b6f-df87-b11cbf9932dd"
      },
      "execution_count": 176,
      "outputs": [
        {
          "output_type": "display_data",
          "data": {
            "text/plain": [
              "(209, 12288)"
            ]
          },
          "metadata": {}
        },
        {
          "output_type": "display_data",
          "data": {
            "text/plain": [
              "(209, 1)"
            ]
          },
          "metadata": {}
        }
      ]
    },
    {
      "cell_type": "markdown",
      "metadata": {
        "id": "IrCvQs6NYnak"
      },
      "source": [
        "### 3.1) Same as before, build a new model with different number of hidden layers, nodes and activation functions. Describe reason for any similarity or difference (20 points)"
      ]
    },
    {
      "cell_type": "markdown",
      "source": [
        "As epochs increases the loss gets lower with each generation. tanh is much more accurate than relu. More nodes increase accuracy as well as more hidden layers until it is basically overfitting."
      ],
      "metadata": {
        "id": "YDsHRBbv643O"
      }
    },
    {
      "cell_type": "code",
      "execution_count": 177,
      "metadata": {
        "id": "wmdATv6tYnak",
        "colab": {
          "base_uri": "https://localhost:8080/"
        },
        "outputId": "e41d152d-cf7e-48d9-deff-b15ca979ac2a"
      },
      "outputs": [
        {
          "output_type": "stream",
          "name": "stdout",
          "text": [
            "Epoch 1/100\n",
            "209/209 [==============================] - 5s 21ms/step - loss: 0.6665\n",
            "Epoch 2/100\n",
            "209/209 [==============================] - 4s 17ms/step - loss: 0.6723\n",
            "Epoch 3/100\n",
            "209/209 [==============================] - 4s 20ms/step - loss: 0.6631\n",
            "Epoch 4/100\n",
            "209/209 [==============================] - 3s 17ms/step - loss: 0.6577\n",
            "Epoch 5/100\n",
            "209/209 [==============================] - 4s 17ms/step - loss: 0.6545\n",
            "Epoch 6/100\n",
            "209/209 [==============================] - 4s 17ms/step - loss: 0.6563\n",
            "Epoch 7/100\n",
            "209/209 [==============================] - 4s 18ms/step - loss: 0.6511\n",
            "Epoch 8/100\n",
            "209/209 [==============================] - 4s 17ms/step - loss: 0.6533\n",
            "Epoch 9/100\n",
            "209/209 [==============================] - 3s 15ms/step - loss: 0.6542\n",
            "Epoch 10/100\n",
            "209/209 [==============================] - 4s 21ms/step - loss: 0.6527\n",
            "Epoch 11/100\n",
            "209/209 [==============================] - 4s 19ms/step - loss: 0.6539\n",
            "Epoch 12/100\n",
            "209/209 [==============================] - 4s 17ms/step - loss: 0.6516\n",
            "Epoch 13/100\n",
            "209/209 [==============================] - 4s 19ms/step - loss: 0.6522\n",
            "Epoch 14/100\n",
            "209/209 [==============================] - 4s 17ms/step - loss: 0.6432\n",
            "Epoch 15/100\n",
            "209/209 [==============================] - 3s 16ms/step - loss: 0.6590\n",
            "Epoch 16/100\n",
            "209/209 [==============================] - 3s 16ms/step - loss: 0.6498\n",
            "Epoch 17/100\n",
            "209/209 [==============================] - 4s 20ms/step - loss: 0.6561\n",
            "Epoch 18/100\n",
            "209/209 [==============================] - 4s 17ms/step - loss: 0.6537\n",
            "Epoch 19/100\n",
            "209/209 [==============================] - 3s 15ms/step - loss: 0.6516\n",
            "Epoch 20/100\n",
            "209/209 [==============================] - 4s 17ms/step - loss: 0.6540\n",
            "Epoch 21/100\n",
            "209/209 [==============================] - 5s 23ms/step - loss: 0.6512\n",
            "Epoch 22/100\n",
            "209/209 [==============================] - 4s 18ms/step - loss: 0.6525\n",
            "Epoch 23/100\n",
            "209/209 [==============================] - 4s 17ms/step - loss: 0.6497\n",
            "Epoch 24/100\n",
            "209/209 [==============================] - 4s 20ms/step - loss: 0.6592\n",
            "Epoch 25/100\n",
            "209/209 [==============================] - 4s 19ms/step - loss: 0.6530\n",
            "Epoch 26/100\n",
            "209/209 [==============================] - 4s 18ms/step - loss: 0.6509\n",
            "Epoch 27/100\n",
            "209/209 [==============================] - 5s 23ms/step - loss: 0.6532\n",
            "Epoch 28/100\n",
            "209/209 [==============================] - 3s 16ms/step - loss: 0.6564\n",
            "Epoch 29/100\n",
            "209/209 [==============================] - 4s 18ms/step - loss: 0.6309\n",
            "Epoch 30/100\n",
            "209/209 [==============================] - 4s 19ms/step - loss: 0.6725\n",
            "Epoch 31/100\n",
            "209/209 [==============================] - 4s 21ms/step - loss: 0.6537\n",
            "Epoch 32/100\n",
            "209/209 [==============================] - 4s 19ms/step - loss: 0.6551\n",
            "Epoch 33/100\n",
            "209/209 [==============================] - 3s 15ms/step - loss: 0.6530\n",
            "Epoch 34/100\n",
            "209/209 [==============================] - 5s 22ms/step - loss: 0.6534\n",
            "Epoch 35/100\n",
            "209/209 [==============================] - 4s 19ms/step - loss: 0.6515\n",
            "Epoch 36/100\n",
            "209/209 [==============================] - 4s 18ms/step - loss: 0.6515\n",
            "Epoch 37/100\n",
            "209/209 [==============================] - 4s 20ms/step - loss: 0.6507\n",
            "Epoch 38/100\n",
            "209/209 [==============================] - 3s 16ms/step - loss: 0.6518\n",
            "Epoch 39/100\n",
            "209/209 [==============================] - 3s 15ms/step - loss: 0.6504\n",
            "Epoch 40/100\n",
            "209/209 [==============================] - 3s 16ms/step - loss: 0.6516\n",
            "Epoch 41/100\n",
            "209/209 [==============================] - 4s 19ms/step - loss: 0.6515\n",
            "Epoch 42/100\n",
            "209/209 [==============================] - 3s 15ms/step - loss: 0.6425\n",
            "Epoch 43/100\n",
            "209/209 [==============================] - 3s 16ms/step - loss: 0.6575\n",
            "Epoch 44/100\n",
            "209/209 [==============================] - 4s 21ms/step - loss: 0.6508\n",
            "Epoch 45/100\n",
            "209/209 [==============================] - 4s 18ms/step - loss: 0.6508\n",
            "Epoch 46/100\n",
            "209/209 [==============================] - 4s 17ms/step - loss: 0.6498\n",
            "Epoch 47/100\n",
            "209/209 [==============================] - 4s 17ms/step - loss: 0.6510\n",
            "Epoch 48/100\n",
            "209/209 [==============================] - 4s 20ms/step - loss: 0.6510\n",
            "Epoch 49/100\n",
            "209/209 [==============================] - 3s 16ms/step - loss: 0.6527\n",
            "Epoch 50/100\n",
            "209/209 [==============================] - 4s 20ms/step - loss: 0.6520\n",
            "Epoch 51/100\n",
            "209/209 [==============================] - 4s 20ms/step - loss: 0.6514\n",
            "Epoch 52/100\n",
            "209/209 [==============================] - 4s 19ms/step - loss: 0.6536\n",
            "Epoch 53/100\n",
            "209/209 [==============================] - 3s 16ms/step - loss: 0.6517\n",
            "Epoch 54/100\n",
            "209/209 [==============================] - 4s 18ms/step - loss: 0.6521\n",
            "Epoch 55/100\n",
            "209/209 [==============================] - 4s 19ms/step - loss: 0.6514\n",
            "Epoch 56/100\n",
            "209/209 [==============================] - 4s 17ms/step - loss: 0.6471\n",
            "Epoch 57/100\n",
            "209/209 [==============================] - 3s 17ms/step - loss: 0.6532\n",
            "Epoch 58/100\n",
            "209/209 [==============================] - 4s 17ms/step - loss: 0.6514\n",
            "Epoch 59/100\n",
            "209/209 [==============================] - 4s 18ms/step - loss: 0.6506\n",
            "Epoch 60/100\n",
            "209/209 [==============================] - 3s 16ms/step - loss: 0.6499\n",
            "Epoch 61/100\n",
            "209/209 [==============================] - 3s 17ms/step - loss: 0.6510\n",
            "Epoch 62/100\n",
            "209/209 [==============================] - 5s 22ms/step - loss: 0.6515\n",
            "Epoch 63/100\n",
            "209/209 [==============================] - 3s 17ms/step - loss: 0.6501\n",
            "Epoch 64/100\n",
            "209/209 [==============================] - 4s 18ms/step - loss: 0.6460\n",
            "Epoch 65/100\n",
            "209/209 [==============================] - 4s 20ms/step - loss: 0.6534\n",
            "Epoch 66/100\n",
            "209/209 [==============================] - 4s 17ms/step - loss: 0.6532\n",
            "Epoch 67/100\n",
            "209/209 [==============================] - 3s 15ms/step - loss: 0.6496\n",
            "Epoch 68/100\n",
            "209/209 [==============================] - 4s 18ms/step - loss: 0.6505\n",
            "Epoch 69/100\n",
            "209/209 [==============================] - 4s 20ms/step - loss: 0.6439\n",
            "Epoch 70/100\n",
            "209/209 [==============================] - 3s 15ms/step - loss: 0.6544\n",
            "Epoch 71/100\n",
            "209/209 [==============================] - 5s 25ms/step - loss: 0.6436\n",
            "Epoch 72/100\n",
            "209/209 [==============================] - 4s 19ms/step - loss: 0.6544\n",
            "Epoch 73/100\n",
            "209/209 [==============================] - 3s 16ms/step - loss: 0.6511\n",
            "Epoch 74/100\n",
            "209/209 [==============================] - 3s 16ms/step - loss: 0.6479\n",
            "Epoch 75/100\n",
            "209/209 [==============================] - 3s 16ms/step - loss: 0.6534\n",
            "Epoch 76/100\n",
            "209/209 [==============================] - 5s 22ms/step - loss: 0.6499\n",
            "Epoch 77/100\n",
            "209/209 [==============================] - 4s 19ms/step - loss: 0.6514\n",
            "Epoch 78/100\n",
            "209/209 [==============================] - 4s 18ms/step - loss: 0.6518\n",
            "Epoch 79/100\n",
            "209/209 [==============================] - 5s 23ms/step - loss: 0.6487\n",
            "Epoch 80/100\n",
            "209/209 [==============================] - 5s 22ms/step - loss: 0.6525\n",
            "Epoch 81/100\n",
            "209/209 [==============================] - 4s 21ms/step - loss: 0.6511\n",
            "Epoch 82/100\n",
            "209/209 [==============================] - 7s 31ms/step - loss: 0.6454\n",
            "Epoch 83/100\n",
            "209/209 [==============================] - 5s 23ms/step - loss: 0.6520\n",
            "Epoch 84/100\n",
            "209/209 [==============================] - 4s 20ms/step - loss: 0.6492\n",
            "Epoch 85/100\n",
            "209/209 [==============================] - 4s 17ms/step - loss: 0.6458\n",
            "Epoch 86/100\n",
            "209/209 [==============================] - 3s 16ms/step - loss: 0.6482\n",
            "Epoch 87/100\n",
            "209/209 [==============================] - 3s 16ms/step - loss: 0.6529\n",
            "Epoch 88/100\n",
            "209/209 [==============================] - 4s 21ms/step - loss: 0.6511\n",
            "Epoch 89/100\n",
            "209/209 [==============================] - 3s 14ms/step - loss: 0.6499\n",
            "Epoch 90/100\n",
            "209/209 [==============================] - 4s 17ms/step - loss: 0.6498\n",
            "Epoch 91/100\n",
            "209/209 [==============================] - 4s 19ms/step - loss: 0.6491\n",
            "Epoch 92/100\n",
            "209/209 [==============================] - 4s 18ms/step - loss: 0.6487\n",
            "Epoch 93/100\n",
            "209/209 [==============================] - 3s 15ms/step - loss: 0.6466\n",
            "Epoch 94/100\n",
            "209/209 [==============================] - 3s 16ms/step - loss: 0.6505\n",
            "Epoch 95/100\n",
            "209/209 [==============================] - 4s 19ms/step - loss: 0.6508\n",
            "Epoch 96/100\n",
            "209/209 [==============================] - 5s 22ms/step - loss: 0.6493\n",
            "Epoch 97/100\n",
            "209/209 [==============================] - 4s 19ms/step - loss: 0.6478\n",
            "Epoch 98/100\n",
            "209/209 [==============================] - 4s 18ms/step - loss: 0.6478\n",
            "Epoch 99/100\n",
            "209/209 [==============================] - 4s 19ms/step - loss: 0.6502\n",
            "Epoch 100/100\n",
            "209/209 [==============================] - 3s 15ms/step - loss: 0.6502\n"
          ]
        },
        {
          "output_type": "execute_result",
          "data": {
            "text/plain": [
              "<keras.callbacks.History at 0x79cd1ec42ec0>"
            ]
          },
          "metadata": {},
          "execution_count": 177
        }
      ],
      "source": [
        "# Try using different iterations using a simple layout like above. 10, 100, 1000 epochs.\n",
        "# What happens with your loss?\n",
        "# I have written the basics of the code for you\n",
        "MYACTIVATIONFXN = 'tanh'\n",
        "model.add(Dense(units = 128, activation = MYACTIVATIONFXN, input_dim = X_train.shape[1]))\n",
        "model.add(Dense(units = 64, activation = MYACTIVATIONFXN))\n",
        "model.add(Dense(units = 32, activation = MYACTIVATIONFXN))\n",
        "model.add(Dense(units = 16, activation = MYACTIVATIONFXN))\n",
        "model.add(Dense(units = 1, activation = 'sigmoid'))\n",
        "model.compile(optimizer = 'rmsprop', loss = 'binary_crossentropy')\n",
        "model.fit(X_train.astype('float'), y_train, batch_size = 1, epochs = 100)"
      ]
    },
    {
      "cell_type": "markdown",
      "source": [
        "#### Try using different layers and activation function with different number of nodes\n",
        "What happens when you add convolutional layers? What happens to our training loss? </br>\n",
        "After intitializing your mode make sure you rescale using: ``` keras.layers.Rescaling(1./255) ``` </br>\n",
        "I will leave it up to you if you want to rescale prior to learning or in the model itself </br>\n",
        "Here you will begin to add layers as well as max pooling. You typically want to do max pooling when you change the shape of your conv2d. Max pooling will focus on the most informative features and reduce the memory footprint </br>\n",
        "This also requires reshaping form 1D to 2D. Hint: Look at the plotting fxn\n",
        "```\n",
        "model.add(Conv2D(32, kernel_size=3, activation='leakyrelu', input_shape=(64, 64, 3)))\n",
        "model.add(MaxPooling2D())\n",
        "```\n",
        "Make sure you flatten before going back into 1D\n",
        "```\n",
        "model.add(Flatten())\n",
        "```\n",
        "After you flatten, you can add your dense layers once again. </br></br>\n",
        "<em> Note: you will have to convert your 1D array back into a 2D array prior to running your convlutional NN. Hint: Look at your plotting function down below!!! </em>"
      ],
      "metadata": {
        "id": "fpPlSApU0ea6"
      }
    },
    {
      "cell_type": "code",
      "source": [
        "\n",
        "model = Sequential()\n",
        "model.add(keras.layers.Rescaling(1./255))\n",
        "\n",
        "model.add(Conv2D(32, kernel_size=3, activation='relu', input_shape=(64, 64, 3)))\n",
        "model.add(MaxPooling2D())\n",
        "\n",
        "model.add(Flatten())\n",
        "X_train_reshaped = keras.layers.Reshape((64, 64, 3))(X_train)\n",
        "X_test_reshaped = keras.layers.Reshape((64, 64, 3))(X_test)\n",
        "model.add(Dense(units=128, activation='relu'))\n",
        "model.add(Dense(units=64, activation='relu'))\n",
        "model.add(Dense(units=32, activation='relu'))\n",
        "model.add(Dense(units=16, activation='relu'))\n",
        "model.add(Dense(units=1, activation='sigmoid'))\n",
        "\n",
        "model.compile(optimizer='rmsprop', loss='binary_crossentropy')\n",
        "model.fit(X_train_reshaped, y_train, batch_size=1, epochs=10)\n",
        "\n"
      ],
      "metadata": {
        "id": "dVYjQT00stLx",
        "colab": {
          "base_uri": "https://localhost:8080/"
        },
        "outputId": "355a78c2-e800-4b99-a7fb-053ee203ef9b"
      },
      "execution_count": 183,
      "outputs": [
        {
          "output_type": "stream",
          "name": "stdout",
          "text": [
            "Epoch 1/10\n",
            "209/209 [==============================] - 16s 61ms/step - loss: 0.6740\n",
            "Epoch 2/10\n",
            "209/209 [==============================] - 17s 82ms/step - loss: 0.6644\n",
            "Epoch 3/10\n",
            "209/209 [==============================] - 12s 58ms/step - loss: 0.6677\n",
            "Epoch 4/10\n",
            "209/209 [==============================] - 11s 54ms/step - loss: 0.6607\n",
            "Epoch 5/10\n",
            "209/209 [==============================] - 12s 56ms/step - loss: 0.6583\n",
            "Epoch 6/10\n",
            "209/209 [==============================] - 11s 54ms/step - loss: 0.6590\n",
            "Epoch 7/10\n",
            "209/209 [==============================] - 12s 56ms/step - loss: 0.6495\n",
            "Epoch 8/10\n",
            "209/209 [==============================] - 12s 56ms/step - loss: 0.6640\n",
            "Epoch 9/10\n",
            "209/209 [==============================] - 12s 56ms/step - loss: 0.6561\n",
            "Epoch 10/10\n",
            "209/209 [==============================] - 12s 56ms/step - loss: 0.6581\n"
          ]
        },
        {
          "output_type": "execute_result",
          "data": {
            "text/plain": [
              "<keras.callbacks.History at 0x79cd1e72f370>"
            ]
          },
          "metadata": {},
          "execution_count": 183
        }
      ]
    },
    {
      "cell_type": "markdown",
      "source": [
        "## Prediction step. Make sure you use ```yhat_train``` and ```yhat_test``` variable names for your predictions!"
      ],
      "metadata": {
        "id": "4DMjtOg5BJEl"
      }
    },
    {
      "cell_type": "code",
      "source": [
        "yhat_train = model.predict(X_train_reshaped)\n",
        "yhat_test = model.predict(X_test_reshaped)"
      ],
      "metadata": {
        "id": "quVIixdFBRVf",
        "colab": {
          "base_uri": "https://localhost:8080/"
        },
        "outputId": "a20c47ad-904f-4315-e85e-71b33eb5e4f0"
      },
      "execution_count": 184,
      "outputs": [
        {
          "output_type": "stream",
          "name": "stdout",
          "text": [
            "7/7 [==============================] - 0s 32ms/step\n",
            "2/2 [==============================] - 0s 23ms/step\n"
          ]
        }
      ]
    },
    {
      "cell_type": "markdown",
      "metadata": {
        "id": "Lmp8LC30Ynak"
      },
      "source": [
        "### 3.2) Calculate your accuracy (10 points)\n",
        "Here you will use both your classification report and your confusion matrix. </br>\n",
        "Later you will be asked to calculate values manually. You are welcome to pull values from your reports."
      ]
    },
    {
      "cell_type": "code",
      "execution_count": 185,
      "metadata": {
        "id": "G7xQi21-Ynak",
        "colab": {
          "base_uri": "https://localhost:8080/"
        },
        "outputId": "ca552983-e4a4-4866-f272-88b02f7947aa"
      },
      "outputs": [
        {
          "output_type": "stream",
          "name": "stdout",
          "text": [
            "Train Accuracy: 0.6555023923444976\n",
            "Test Accuracy: 0.34\n",
            "Classification Report (Train):\n",
            "              precision    recall  f1-score   support\n",
            "\n",
            "           0       0.66      1.00      0.79       137\n",
            "           1       0.00      0.00      0.00        72\n",
            "\n",
            "    accuracy                           0.66       209\n",
            "   macro avg       0.33      0.50      0.40       209\n",
            "weighted avg       0.43      0.66      0.52       209\n",
            "\n",
            "Confusion Matrix (Train):\n",
            "[[137   0]\n",
            " [ 72   0]]\n"
          ]
        }
      ],
      "source": [
        "# Hint! Use the predict function and threshold your results. 0.5 is reasonable.\n",
        "# In your classification report since we are only predicting cats you will need to set the parameter labels\n",
        "# labels=np.unique(yhat_test)\n",
        "y_pred_train = (yhat_train >= 0.5).astype(int)\n",
        "y_pred_test = (yhat_test >= 0.5).astype(int)\n",
        "\n",
        "# Calculate the accuracy by comparing the predicted labels with the true labels\n",
        "accuracy_train = np.mean(y_pred_train == y_train)\n",
        "accuracy_test = np.mean(y_pred_test == y_test)\n",
        "print(\"Train Accuracy:\", accuracy_train)\n",
        "print(\"Test Accuracy:\", accuracy_test)\n",
        "\n",
        "# Generate the classification report\n",
        "report = classification_report(y_train, y_pred_train, labels=np.unique(y_train), zero_division=0)\n",
        "print(\"Classification Report (Train):\")\n",
        "print(report)\n",
        "\n",
        "# Generate the confusion matrix\n",
        "cm = confusion_matrix(y_train, y_pred_train, labels=np.unique(y_train))\n",
        "print(\"Confusion Matrix (Train):\")\n",
        "print(cm)\n",
        "\n"
      ]
    },
    {
      "cell_type": "markdown",
      "metadata": {
        "id": "vf_Khwq1Ynak"
      },
      "source": [
        "### 3.3) Calculate your precision and recall manually (10 points)"
      ]
    },
    {
      "cell_type": "code",
      "execution_count": 186,
      "metadata": {
        "id": "g8BpIv03Ynal",
        "colab": {
          "base_uri": "https://localhost:8080/"
        },
        "outputId": "f7dab863-919d-418f-e9b2-c1781b364b1e"
      },
      "outputs": [
        {
          "output_type": "execute_result",
          "data": {
            "text/plain": [
              "array([1., 0.])"
            ]
          },
          "metadata": {},
          "execution_count": 186
        }
      ],
      "source": [
        "# Recall calculation\n",
        "FP = cm.sum(axis=0) - np.diag(cm)\n",
        "FN = cm.sum(axis=1) - np.diag(cm)\n",
        "TP = np.diag(cm)\n",
        "TN = cm.sum() - (FP + FN + TP)\n",
        "recall = TP / (TP + FN)\n",
        "recall"
      ]
    },
    {
      "cell_type": "code",
      "source": [
        "# Precision calculation\n",
        "precision = TP / (TP + FP)\n",
        "precision"
      ],
      "metadata": {
        "id": "BriMkolotghk",
        "colab": {
          "base_uri": "https://localhost:8080/"
        },
        "outputId": "67909e70-2b68-4359-e0e7-9838ee251a07"
      },
      "execution_count": 187,
      "outputs": [
        {
          "output_type": "stream",
          "name": "stderr",
          "text": [
            "<ipython-input-187-1e15a119830b>:2: RuntimeWarning: invalid value encountered in divide\n",
            "  precision = TP / (TP + FP)\n"
          ]
        },
        {
          "output_type": "execute_result",
          "data": {
            "text/plain": [
              "array([0.65550239,        nan])"
            ]
          },
          "metadata": {},
          "execution_count": 187
        }
      ]
    },
    {
      "cell_type": "markdown",
      "source": [
        "### Let's plot!!!"
      ],
      "metadata": {
        "id": "n3E_cvZbkb_o"
      }
    },
    {
      "cell_type": "code",
      "source": [
        "n = 3 # number of images to print\n",
        "imgs = X_test.reshape([50, 64, 64, 3]) # here we reshape our images so that they are 2D again\n",
        "fig, ax = plt.subplots(1, n, figsize=(16,8))\n",
        "for ix in range(n):\n",
        "    num = np.random.randint(imgs.shape[0]) # randomly selects from 51 images\n",
        "    ax[ix].imshow(imgs[num])\n",
        "    if yhat_test[num] == 0:\n",
        "        ax[ix].set_title('This is clearly not a cat')\n",
        "    else:\n",
        "        ax[ix].set_title('Yup! it\\'s a cat')"
      ],
      "metadata": {
        "id": "rq71-Hdnke1W",
        "colab": {
          "base_uri": "https://localhost:8080/",
          "height": 447
        },
        "outputId": "bfb21fa4-7584-46a5-8beb-b138dadceba2"
      },
      "execution_count": 189,
      "outputs": [
        {
          "output_type": "display_data",
          "data": {
            "text/plain": [
              "<Figure size 1600x800 with 3 Axes>"
            ],
            "image/png": "[encoded data removed]"
          },
          "metadata": {}
        }
      ]
    },
    {
      "cell_type": "markdown",
      "metadata": {
        "id": "z0ja7ns_Ynan"
      },
      "source": [
        "## 4) Collaborative Statement (5 points)\n",
        "#### You must fill this out even if you worked alone to get credit.\n",
        "\n",
        "It is mandatory to include a Statement of Collaboration in each submission, that follows the guidelines below.\n",
        "Include the names of everyone involved in the discussions (especially in-person ones), and what was discussed.\n",
        "All students are required to follow the academic honesty guidelines posted on the course website. For\n",
        "programming assignments in particular, I encourage students to organize (perhaps using Piazza) to discuss the\n",
        "task descriptions, requirements, possible bugs in the support code, and the relevant technical content before they\n",
        "start working on it. However, you should not discuss the specific solutions, and as a guiding principle, you are\n",
        "not allowed to take anything written or drawn away from these discussions (no photographs of the blackboard,\n",
        "written notes, referring to Piazza, etc.). Especially after you have started working on the assignment, try to restrict\n",
        "the discussion to Piazza as much as possible, so that there is no doubt as to the extent of your collaboration."
      ]
    },
    {
      "cell_type": "markdown",
      "source": [
        "I did not collaborate with anyone on this assignment. Geoffrey Mohn"
      ],
      "metadata": {
        "id": "9OsujUqHdS7D"
      }
    },
    {
      "cell_type": "markdown",
      "metadata": {
        "id": "bC4SnF_7Ynal"
      },
      "source": [
        "## Round up!"
      ]
    },
    {
      "cell_type": "markdown",
      "metadata": {
        "id": "Ba-yJKQIYnal"
      },
      "source": [
        "I hope you all had fun, writing your own ANN. In my opinon, writing these things from the ground up is the best way to learn how it actually works. I hope that you see that these systems are not magical, but simple matrix multiplications, unfortunately just a very lot of them. The most difficult part is of course the back propagation, where we need to calculate the gradients. Our simple ANNs are quite doable, but adding more different layers to them, can make it a bit more cumbersome. Still the essence is very similar to what we have done today.\n",
        "\n",
        "My suggestion is to play around with these structures, rewrite parts of them, or even better, write your own from scratch!\n"
      ]
    },
    {
      "cell_type": "markdown",
      "metadata": {
        "id": "NJkBdpHDYnal"
      },
      "source": [
        "Please let me know if you have any comments!"
      ]
    },
    {
      "cell_type": "code",
      "execution_count": null,
      "metadata": {
        "id": "oo5nI67mYnal"
      },
      "outputs": [],
      "source": []
    },
    {
      "cell_type": "markdown",
      "metadata": {
        "id": "xUZ99lNyYnal"
      },
      "source": [
        "## Apendix"
      ]
    },
    {
      "cell_type": "markdown",
      "metadata": {
        "id": "Pc0AoxY_Ynal"
      },
      "source": [
        "### Generating Rose Data"
      ]
    },
    {
      "cell_type": "code",
      "execution_count": null,
      "metadata": {
        "id": "vNcaQgjQYnal"
      },
      "outputs": [],
      "source": [
        "def generateRoseData():\n",
        "    k=7\n",
        "    pointPerPetal = 100\n",
        "    cutOff = 0.1\n",
        "    r = 4\n",
        "\n",
        "    theta = np.linspace(0,np.pi, pointPerPetal * k)\n",
        "    xx = r * np.cos(k * theta) * np.cos(theta)\n",
        "    yy = r * np.cos(k * theta) * np.sin(theta)\n",
        "    cc = [np.ones(pointPerPetal) if ix % 3 == 0 else np.zeros(pointPerPetal) for ix in np.arange(k)]\n",
        "    cc = np.roll(np.hstack(cc).astype(np.uint8), -pointPerPetal//2)\n",
        "    x = xx[(xx**2 + yy**2)**0.5 > cutOff]\n",
        "    y = yy[(xx**2 + yy**2)**0.5 > cutOff]\n",
        "    col = cc[(xx**2 + yy**2)**0.5 > cutOff]\n",
        "    X = np.vstack([x,y])\n",
        "    Y = np.copy(col).reshape([1, -1])\n",
        "    return X, Y\n",
        "X, Y = generateRoseData()\n",
        "np.savez_compressed('./data/rose/rose.npz', X=X, Y=Y)"
      ]
    },
    {
      "cell_type": "code",
      "execution_count": null,
      "metadata": {
        "id": "Rq4YAjRgYnam"
      },
      "outputs": [],
      "source": []
    },
    {
      "cell_type": "markdown",
      "metadata": {
        "id": "cBlwWwKQYnam"
      },
      "source": [
        "### Processing Andrews CatvNotCat data"
      ]
    },
    {
      "cell_type": "code",
      "execution_count": null,
      "metadata": {
        "id": "2lkHWbzVYnam"
      },
      "outputs": [],
      "source": [
        "# If you get an error here, install h5py via pip3 install h5py\n",
        "import h5py"
      ]
    },
    {
      "cell_type": "code",
      "execution_count": null,
      "metadata": {
        "id": "HUyH9EvUYnam"
      },
      "outputs": [],
      "source": [
        "# Data downloaded from:\n",
        "# https://github.com/ridhimagarg/Cat-vs-Non-cat-Deep-learning-implementation\n",
        "def processCatData():\n",
        "    train_dataset = h5py.File(\"./data/cats/train_catvnoncat.h5\", mode='r')\n",
        "    Xtrain = np.array(train_dataset[\"train_set_x\"])\n",
        "    Y_train = np.array(train_dataset[\"train_set_y\"])\n",
        "    test_dataset = h5py.File(\"./data/cats/test_catvnoncat.h5\", mode='r')\n",
        "    Xtest = np.array(test_dataset[\"test_set_x\"])\n",
        "    Y_test = np.array(test_dataset[\"test_set_y\"])\n",
        "    X_train = Xtrain / 255\n",
        "    X_test = Xtest / 255\n",
        "    X_train = X_train.reshape(209, -1).T\n",
        "    Y_train = Y_train.reshape(-1, 209)\n",
        "    X_test = X_test.reshape(50, -1).T\n",
        "    Y_test = Y_test.reshape(-1, 50)\n",
        "    return X_train, X_test, Y_train, Y_test\n",
        "Xtrain, Xtest, Ytrain, Ytest = processCatData()\n",
        "np.savez_compressed('./data/cats/cats.npz', Xtrain=Xtrain, Xtest=Xtest, Ytrain=Ytrain, Ytest=Ytest)"
      ]
    },
    {
      "cell_type": "code",
      "source": [],
      "metadata": {
        "id": "cofYYytwRk5Q"
      },
      "execution_count": null,
      "outputs": []
    },
    {
      "cell_type": "markdown",
      "metadata": {
        "id": "iy2XhQSoYnan"
      },
      "source": [
        "# Credits\n",
        "#### Edwin Solares - Updates to Part 1, Conversion to google colab, conversion to Keras and preprocessing data to work with Kears (Part 2).\n",
        "#### Dennis Bakhuis - Custom ANN class and it's example exercises (Part 1). May the Fourth (be with you) 2020\n",
        "https://linkedin.com/in/dennisbakhuis/ \\\n",
        "https://github.com/dennisbakhuis\n"
      ]
    }
  ],
  "metadata": {
    "kernelspec": {
      "display_name": "Python 3 (ipykernel)",
      "language": "python",
      "name": "python3"
    },
    "language_info": {
      "codemirror_mode": {
        "name": "ipython",
        "version": 3
      },
      "file_extension": ".py",
      "mimetype": "text/x-python",
      "name": "python",
      "nbconvert_exporter": "python",
      "pygments_lexer": "ipython3",
      "version": "3.8.10"
    },
    "colab": {
      "provenance": []
    }
  },
  "nbformat": 4,
  "nbformat_minor": 0
}