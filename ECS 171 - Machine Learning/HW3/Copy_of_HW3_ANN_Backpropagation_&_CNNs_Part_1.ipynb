{
  "cells": [
    {
      "cell_type": "markdown",
      "source": [
        "# Download the data\n",
        "Let's download and uncompress our data and images here:"
      ],
      "metadata": {
        "id": "dhTEdM56b3-n"
      }
    },
    {
      "cell_type": "code",
      "source": [
        "import platform\n",
        "display(platform.system())\n",
        "import os\n",
        "file_download_link = ''\n",
        "if os.name == 'nt':\n",
        "    print('Please download your dataset here:', file_download_link)\n",
        "else:\n",
        "    # We need to first download the data here:\n",
        "    file_download_link = 'https://www.dropbox.com/scl/fi/x4vhkglosags3qmg4h0p2/hw3data.zip?rlkey=kke6onzuc2rajohgislutjgg7&dl=0'\n",
        "    !wget -O data.zip \"$file_download_link\" -o /dev/null\n",
        "    !unzip data.zip > /dev/null"
      ],
      "metadata": {
        "id": "gMPNGHDXbxEw",
        "colab": {
          "base_uri": "https://localhost:8080/",
          "height": 35
        },
        "outputId": "815f369f-10b6-4eb5-dc2f-ef21a4fdfdf1"
      },
      "execution_count": null,
      "outputs": [
        {
          "output_type": "display_data",
          "data": {
            "text/plain": [
              "'Linux'"
            ],
            "application/vnd.google.colaboratory.intrinsic+json": {
              "type": "string"
            }
          },
          "metadata": {}
        }
      ]
    },
    {
      "cell_type": "code",
      "source": [
        "# If your data is on google drive then uncomment the code below to access\n",
        "# your google drive.\n",
        "#from google.colab import drive\n",
        "#drive.mount('/content/drive')"
      ],
      "metadata": {
        "id": "k8pzndEXoGoF"
      },
      "execution_count": null,
      "outputs": []
    },
    {
      "cell_type": "markdown",
      "metadata": {
        "id": "2O9KZgKoYnaP"
      },
      "source": [
        "# Artificial Neural Networks (10 points)"
      ]
    },
    {
      "cell_type": "markdown",
      "metadata": {
        "id": "fASdT6lKYnaS"
      },
      "source": [
        "### Contents\n",
        "1. Artificial neural networks (ANNs) and their link to Logistic regression\n",
        "2. Generalization of multi layer networks\n",
        "3. Step by step implementation of our ANN class\n",
        "4. Does it do what it is supposed to do?\n",
        "    1. linear regression: 25 all over again!\n",
        "    2. Another go at our Titanic dataset\n",
        "    3. Complex fit of flowers\n",
        "    4. Andrew Ng's cat vs non-cat classifying\n",
        "5. Round up\n",
        "**Apendix:**\n",
        "- Data creation/processing for Rose / Cats\n",
        "- Crude version of a hyperparameter sweep\n",
        "\n"
      ]
    },
    {
      "cell_type": "markdown",
      "metadata": {
        "id": "cTteqw79YnaS"
      },
      "source": [
        "## Artificial neural networks (ANNs) and their link to Logistic regression"
      ]
    },
    {
      "cell_type": "markdown",
      "metadata": {
        "id": "LJmMNloLYnaS"
      },
      "source": [
        "When we would ask a random person about Machine Learning, there is a big chance that neural networks are mentioned. Not only does the terminology play with our imagination, but these mathematical structures have also proven themselves to solve complex tasks. Many of you have probably seen such a network and it almost radiates simplicity:\n",
        "\n",
        "<img src=\"https://drive.google.com/uc?id=10yZYlGrKUh0uFDQ862TphkNjT3EBQBIS\" alt=\"Artificial Neural Network example\" width=\"500\" style=\"display: block; margin: 0 auto\" />\n"
      ]
    },
    {
      "cell_type": "markdown",
      "metadata": {
        "id": "60kRcxs2YnaT"
      },
      "source": [
        "In this simple diagram, we show an artificial neural network (ANN), or just simply neural network (NN), which has three layers. By convention, we do not count the input layer, and later we see that this layer in the diagram represents the input data you feed into the NN. This particular NN has two hidden layers. While I am not sure why it exactly is called a hidden layer, I can imagine that one reason could be that these layers are 'hidden' from the user. A user inputs data through the input data and gets results from the output layer, therefore, not interacting with the hidden layers. The user would not see if there is just a single layer, two layers, or even ten layers. The output however, is an actual layer, in our case a single neuron, which 'collects' the results from the previous hidden layer.\n"
      ]
    },
    {
      "cell_type": "markdown",
      "metadata": {
        "id": "mDF1aLoTYnaT"
      },
      "source": [
        "A logistic regression can be seen as the tiniest possible NN, with just a single layer, consisting of a single neuron. A diagram of a logistic regression can look like this:\n",
        "\n",
        "<img src=\"https://drive.google.com/uc?id=1W-qiH9eroJJUZR82Qy81liXnBK_knp37\" alt=\"Artificial Neural Network example\" width=\"400\" style=\"display: block; margin: 0 auto\" />"
      ]
    },
    {
      "cell_type": "markdown",
      "metadata": {
        "id": "iDdqYzipYnaT"
      },
      "source": [
        "Let's do a short recap on this logistic model. First, we massaged the input data in such a way that the individual features ($x_1, x_2, x_3$) are in the rows of our input vector $X$, and the columns are the examples (training samples). This input vector $X$ is then forwarded to our single neuron, which can be divided in two parts. First, a linear operation (linear regression), $z = X W + b$, followed by an activation function $A = g(z)$. In our previous tutorial we performed binary logistic regression, which uses the sigmoid activation function $\\sigma(z) = \\frac{1}{1 + \\exp{-z}}$. Here we generalize this by using $g(z)$ to indicate an activation function we have to define. As we will learn today, there are many other activation functions to choose from.\n",
        "\n",
        "Before we can calculate the activation function we need to calculate the linear part $z$. This is the inner product of the weights vector $W$ and the input vector $X$, with the bias term $b$ added. The bias term $b$ and the weights vector $W$ (consisting of $w_1, w_2, w_3$) are the trainable parameters of this system. Each trainable weight ($w_1, w_2, w_3$) corresponds to an input feature ($x_1, x_2, x_3$) and represents the 'weight' this feature is adding to the problem. These weights are drawn inside the output layer frame, meaning that they are linked to this layer (inside this single neuron).\n"
      ]
    },
    {
      "cell_type": "markdown",
      "metadata": {
        "id": "aB04B12gYnaU"
      },
      "source": [
        "While logistic regression is a great tool, in can only divide the parameter space in a line, at least in the from we have presented here. For example, if you have two features $x_1$ and $x_2$, which will be used to predict $y$, a logistic classifier is only able to have a linear boundary between the two parameters. If this is not completely clear, we will have an example to show this problem.\n",
        "\n",
        "To have the system predict more complex relations, we can add more neurons to a layer and even add more layers to our network. Each of this neuron is a kind of logistic regression unit and many of these combined can predict highly non-linear relations. I say kind of, because in a logistic regression we typically use the sigmoid function, while in a NN, many other activation function perform much better.\n",
        "\n",
        "<img src=\"https://drive.google.com/uc?id=1E1iyQlEDcd7ARsnTS-Tgm3JaK3lGwfKB\" alt=\"Artificial Neural Network example\" width=\"500\" style=\"display: block; margin: 0 auto\" />\n",
        "\n",
        "Before we will start to generalize a NN and the used layers, observe how the different neurons are connected. You will notice that each node is connected to all nodes of the next layer. This is called densely connected (sometimes fully connected) and such a layer is often called a 'Dense layer'. Now, lets try to define such structures.\n"
      ]
    },
    {
      "cell_type": "code",
      "execution_count": null,
      "metadata": {
        "id": "DsxpjtuGYnaU"
      },
      "outputs": [],
      "source": []
    },
    {
      "cell_type": "markdown",
      "metadata": {
        "id": "KliNfAWUYnaV"
      },
      "source": [
        "## Generalization of multi layer networks"
      ]
    },
    {
      "cell_type": "markdown",
      "metadata": {
        "id": "IPsVuOUAYnaV"
      },
      "source": [
        "Before we can start to develop our system, lets try to first generalize the steps required. The goal of this tutorial is to create a general NN class in which we can add arbitrary number of layers, containing arbitrary number of neurons. Later we will test this structure on various problems with varying complexity.\n",
        "\n",
        "When we think of the input layer, we have already discovered that it is not an actual layer of the neural network, but the training data, massaged in the right form. Therefore, the input 'layer' is not part of our architecture.\n",
        "\n",
        "The neural network will however consist of an arbitrary number of layers. These will be structures that behave in a similar fashion and are sequetial to each other. When doing the forward pass, we will loop through all the layers and use the output of the previous layer as input for the current layer. The output of the final layer, also called the final activation $A$ is the output of the neural network. This means that, if the neural network is used to predict binary values, the output has to be converted (or rounded) to the actual predictions $\\hat Y$.\n",
        "\n",
        "To do one pass of gradient descent, we need to have the weights. For this, we need to calculate the gradient of the loss function with respect of $W$ and $b$ for each layer. To calculate the gradients, we can do a clever trick and cache the values of $z$ and $A$ during the forward pass. We need to do some bookkeeping here the most mathematically heavy part is quite doable.\n",
        "\n",
        "After all gradients are calculated the weights are then updated using a simple gradient descent step. To make is visual I have created the following diagram:\n",
        "\n",
        "<img src=\"https://drive.google.com/uc?id=1jLFZ28_VOCKXmYkaIhVK070gNOuQOSf7\" alt=\"Artificial Neural Network example\" width=\"700\" style=\"display: block; margin: 0 auto\" />"
      ]
    },
    {
      "cell_type": "markdown",
      "source": [
        "Here the forward pass calculates our loss and is used in the backward pass to calculate updated weights based on alpha. Next we calculate our loss again in the forward pass which then is used again in the next GD step to update weights based on the gradient descent step based on alpha. We do this until we minimize our loss past a certain threshold or after a certain number of iterations. We will now go into detail of these steps."
      ],
      "metadata": {
        "id": "WxObOFjpOu4G"
      }
    },
    {
      "cell_type": "markdown",
      "metadata": {
        "id": "uaJnutauYnaV"
      },
      "source": [
        "All layers in the network are fundamentally the same. They can differ in the amount of nodes or the activation function, but there is no structural difference between the first layer $L_1$ and the output layer $L_o$.\n",
        "\n",
        "As we will be creating only fully connected Dense layers, we can create a single structure to do the hard work. In this structure we have to do the math for the forward pass, the backward pass, and the update. The input of each layer is generally the output of the previous layer. Obviously, for the first layer, this is the input vector. For the backward pass, we sequentially go through the network in the reverse direction. However, here we need to do an addtional step. We need to calculate the gradients with respect to the defined loss function. For this we need to input the true labels $Y$ and the predicted output $A$ during the backward pass. After this, we again have that the previous gradient is the input for the next layer (remember: we are going backwards). Each layer handels the backwards pass in the same way:\n",
        "\n",
        "<img src=\"https://drive.google.com/uc?id=13IN6rIkiSdCuT8lT8BSasCj4wdA_spGW\" alt=\"Artificial Neural Network example\" width=\"600\" style=\"display: block; margin: 0 auto\" />\n"
      ]
    },
    {
      "cell_type": "markdown",
      "metadata": {
        "id": "dr62GIGZYnaV"
      },
      "source": [
        "For each layer, in the forward pass, in expects the output of the previous layer (or $X$). This is then cached for use during the backward pass. We calculate the linear part $z$ with one single vectorized inner product calculation for all neurons and add the bias term. We also cache this value of $z$ for the backward pass. Finally, we will calculate the activation function and pass the result to the next layer (or this is the output if it is the final layer).\n",
        "\n",
        "The backward pass is just the forward pass in reverse, but expects the previous gradient as an input. We calculate the gradients, using the cached values of $A_p$ and $z_p$. As a last step we calculate $dA_p$ which will be the input to the next layer. I do not want to focus to much on the actual differentials, but will explain them a bit more in the code. If you really want to know how these differentials are calculated, I would suggest to get a pen and paper and try to calculate them. They are not hard and [Wolfram Alpha](https://www.wolframalpha.com/) can help you :-).\n"
      ]
    },
    {
      "cell_type": "markdown",
      "metadata": {
        "id": "Lb3TFMsiYnaV"
      },
      "source": [
        "If it is not completely clear what each step is doing, do not worry to much about it. I will try to explain each step during the coding part. To have an idea, let us summarize what we will be making:\n",
        "\n",
        "#### Dense Layer Class\n",
        "- structure to hold an arbitrary number of nodes\n",
        "- will have various activation functions\n",
        "- will perform the forward pass through the single layer (z and A)\n",
        "- will perform the backward pass for the layer\n",
        "- will perform the update step for the layer\n",
        "\n",
        "#### Neural Network Class\n",
        "- structure to hold an arbitrary number of layers\n",
        "- will perform the forward pass sequentially through all layers\n",
        "- will do the cost calculation for various loss functions\n",
        "- will perform the backward pass and calculate all gradients\n",
        "- will do an update (a step of gradient descent)\n"
      ]
    },
    {
      "cell_type": "code",
      "execution_count": null,
      "metadata": {
        "id": "UShVaJiHYnaW"
      },
      "outputs": [],
      "source": []
    },
    {
      "cell_type": "markdown",
      "metadata": {
        "id": "N-xm3KnxYnaW"
      },
      "source": [
        "## Step by step implementation of our ANN class"
      ]
    },
    {
      "cell_type": "markdown",
      "metadata": {
        "id": "uYPvx5awYnaW"
      },
      "source": [
        "Now lets start to implement our NN classes. First import numpy"
      ]
    },
    {
      "cell_type": "code",
      "execution_count": null,
      "metadata": {
        "id": "zL1c0GPfYnaW"
      },
      "outputs": [],
      "source": [
        "import numpy as np"
      ]
    },
    {
      "cell_type": "markdown",
      "metadata": {
        "id": "cryqx1XlYnaX"
      },
      "source": [
        "Before we can define our main NN class, we need to define our Dense layer class. As I want to do some error checking, we will first define some custom Exceptions:"
      ]
    },
    {
      "cell_type": "code",
      "execution_count": null,
      "metadata": {
        "id": "eAemRcfmYnaX"
      },
      "outputs": [],
      "source": [
        "class ActivationDoesNotExist(Exception):\n",
        "    \"\"\"Valid activations are sigmoid, tanh, and relu, provided as a string\"\"\"\n",
        "    pass\n",
        "\n",
        "class InputDimensionNotCorrect(Exception):\n",
        "    \"\"\"Need to specify input dimension, i.e. input shape into the first layer\"\"\"\n",
        "    pass\n",
        "\n",
        "class LossFunctionNotDefined(Exception):\n",
        "    \"\"\"Loss function in cost() method not defined\"\"\"\n",
        "    pass"
      ]
    },
    {
      "cell_type": "markdown",
      "metadata": {
        "id": "HtY-qXimYnaX"
      },
      "source": [
        "These exception extend Python's default Exception class and now can be used with the 'raise' keyword to create an exception that tells the user what the mistake is. If you systems get larger, it is good practice to have meaningfull errors. Another great way is using the logging module."
      ]
    },
    {
      "cell_type": "markdown",
      "metadata": {
        "id": "OXbJ-bRVYnaX"
      },
      "source": [
        "Now we can begin with our new class called DenseLayer. This class takes an constructor with two required parameters:\n",
        "- inputDimension, i.e. the number of features of the input vector, or the number of units from the previous layer\n",
        "- units, i.e. the number of neurons in this layer\n",
        "There are two more optional parameters:\n",
        "- activation: here you can indicate what activation the layer should use. Defined are sigmoid, relu, tanh, and ''. The empty string indicates no activation, meaning we just have a regression.\n",
        "- randomMultiplier is the value which the random weights are multiplied. Generally 0.01 is fine, but sometimes tweaking this number can help.\n",
        "\n",
        "As there can me different activation functions and we do not want to chech which activation we have using an if-statement, we make a reference to the used activation functions in the init statement.\n",
        "\n",
        "In the initialize method, the weights are initialized. Notice that the number of neurons nh (units) are in the rows, and the number of input features nx are the columns. This is required to make our dot product work later.\n",
        "\n",
        "Another thing I learned recently is the use of 'self' in Python. While I though I understood the concept, I did not fully understand the concequences. The definition of the class is separated from the values of each instance. These values are stored in the self object, i.e. the object of the instance. In other programming languages it is common to define types it the class itself. However, in Python you have to define these in the init method. When not doing this, the variable is the same object in all your instances and you can get weird results. I just found this [blog-post](https://towardsdatascience.com/python-pitfall-mutable-default-arguments-9385e8265422) where Don Cross has a very clear explanation.\n",
        "\n",
        "\n",
        "```python\n",
        "class DenseLayer:\n",
        "    def __init__(self, inputDimension, units, activation='', randomMultiplier=0.01):\n",
        "        self.weights, self.bias = self.initialize(inputDimension, units, randomMultiplier)\n",
        "        if activation == 'sigmoid':\n",
        "            self.activation = activation\n",
        "            self.activationForward = self.sigmoid\n",
        "            self.activationBackward = self.sigmoidGrad\n",
        "        elif activation == 'relu':\n",
        "            self.activation = activation\n",
        "            self.activationForward = self.relu\n",
        "            self.activationBackward = self.reluGrad\n",
        "        elif activation == 'tanh':\n",
        "            self.activation = activation\n",
        "            self.activationFunction = self.tanh\n",
        "            self.activationBackward = self.tanhGrad\n",
        "        elif activation != '':\n",
        "            raise ActivationDoesNotExist\n",
        "        else:\n",
        "            self.activation = 'none'\n",
        "            self.activationFunction = self.linear\n",
        "            self.activationBackward = self.linear\n",
        "    \n",
        "    def initialize(self, nx, nh, randomMultiplier):\n",
        "        weights = randomMultiplier * np.random.randn(nh, nx)\n",
        "        bias = np.zeros([nh, 1])\n",
        "        return weights, bias\n",
        "\n",
        "```"
      ]
    },
    {
      "cell_type": "markdown",
      "metadata": {
        "id": "oHqOChxmYnaY"
      },
      "source": [
        "Next we define all used activation functions. The sigmoid we already know from the previous Tutorial, however we also include tanh and relu, which are also very common activation functions.\n",
        "\n",
        "Tanh or hyperbolic tangent in full is a function which is similar to the sigmoid, however it maps all real values between -1 and +1. It was very popular, before the Relu function made its way to the stage.\n",
        "\n",
        "Relu, which stands for Rectified linear unit, is probably the most popular activation function. It is fast to calculate and has often better results than the Tanh function. Therefore, if you are not sure, the Relu function is a great start. The Relu function maps all values smaller than 0 to zero and all values larger than 0 as the value itself.\n",
        "\n",
        "The last activation function we will introduce is called the linear function. This is the same as not having an activation function, and is just a placeholder. What comes in, comes out and we use it to test our previous excersise on Linear regression.\n",
        "\n",
        "The backward pass needs the differentials of all these functions, which are provided with the Grad suffix. Feel free to check if these differentials are correct. One additional step for each Grad calculation is that we multiply the input gradient (dA0 with the calculated gradient. This is required because we use the [chain rule](https://en.wikipedia.org/wiki/Differentiation_rules#The_chain_rule) (continously through back propagation).\n"
      ]
    },
    {
      "cell_type": "markdown",
      "metadata": {
        "id": "pSxl13x4YnaY"
      },
      "source": [
        "```python\n",
        "    def sigmoid(self, Z):\n",
        "            A = 1 / (1 + np.exp(-Z))\n",
        "            return A\n",
        "        \n",
        "    def sigmoidGrad(self, dA):\n",
        "            s = 1 / (1 + np.exp(-self.prevZ))\n",
        "            dZ = dA * s * (1 - s)\n",
        "            return dZ\n",
        "    \n",
        "    \n",
        "    def relu(self, Z):\n",
        "            A = np.maximum(0, Z)\n",
        "            return A\n",
        "        \n",
        "    def reluGrad(self, dA):\n",
        "            s = np.maximum(0, self.prevZ)\n",
        "            dZ = (s>0) * 1 * dA\n",
        "            return dZ\n",
        "\n",
        "        \n",
        "    def tanh(self, Z):\n",
        "            A = np.tanh(Z)\n",
        "            return A\n",
        "\n",
        "    def tanhGrad(self, dA):\n",
        "            s = np.tanh(self.prevZ)\n",
        "            dZ = (1 - s**2) * dA\n",
        "            return dZ\n",
        "\n",
        "\n",
        "    def linear(self, Z):\n",
        "        return Z\n",
        "```"
      ]
    },
    {
      "cell_type": "markdown",
      "metadata": {
        "id": "AWvqxVobYnaY"
      },
      "source": [
        "Next, we define the forward propagation step, which should look very familiar:\n",
        "```python\n",
        "    def forward(self, A):\n",
        "        Z = np.dot(self.weights, A) + self.bias\n",
        "        self.prevZ = Z\n",
        "        self.prevA = A\n",
        "        A = self.activationForward(Z)\n",
        "        return A\n",
        "```\n",
        "\n",
        "We first calculate the linear part. Store the values for Z and A for later use in the back propagation and next apply the activation function.\n"
      ]
    },
    {
      "cell_type": "markdown",
      "metadata": {
        "id": "yxnfkWXWYnaY"
      },
      "source": [
        "Before starting our backpropstep we need to define our loss function. For logistic regression it's done with the binary cross entropy, for which I will simply give the equation.\n",
        "\\begin{equation}\n",
        "loss = -\\frac{1}{m}\\sum_{i=1}^{m}y\\log(A)+(1-y)\\log(1-A)\n",
        "\\end{equation}\n",
        "\n",
        "Now for the backwards pass, We would need to differentiate the Loss function with $W$ and $b$. Not to  bore you guys,\n",
        "I have provided these functions:\n",
        "\n",
        "\\begin{equation}\n",
        " \\frac{\\partial loss}{\\partial W} = \\frac{1}{m} \\sum_{i=1}^m  X(A - Y)^T \\\\\n",
        " \\frac{\\partial loss}{\\partial b} = \\frac{1}{m} \\sum_{i=1}^m (A - y)\n",
        "\\end{equation}\n",
        "\n",
        "In Python, this looks like this:\n",
        "\n",
        "The backward propagation looks again similar to the previous tutorial, however we have split the backward activation part to the activation functions itself. Also this function expects to get dA, which is a more generalized form for multiple layers. In our previous single layer example we combined the differential of the loss function in this step. Now this step is in our NN class and not in each layer, as it is only required at the last layer.\n",
        "\n",
        "```python\n",
        "  def backward(self, dA):\n",
        "        dZ = self.activationBackward(dA)\n",
        "        m = self.prevA.shape[1]\n",
        "        self.dW = 1 / m * np.dot(dZ, self.prevA.T)\n",
        "        self.db = 1 / m * np.sum(dZ, axis=1, keepdims=True)\n",
        "        prevdA = np.dot(self.weights.T, dZ)\n",
        "        return prevdA\n",
        "```\n",
        "\n",
        "The gradients are stored in the layer and can be used later by the update function, which performs the gradient descent step. This backward passes chain together for each layer as we will see later.\n"
      ]
    },
    {
      "cell_type": "markdown",
      "metadata": {
        "id": "0WCvZ8OwYnaZ"
      },
      "source": [
        "The final required function is the update function, which performs the gradient descent step. Nothing spectacular but it expects a learning rate.\n",
        "\n",
        "```python\n",
        "    def update(self, learning_rate):\n",
        "        self.weights = self.weights - learning_rate * self.dW\n",
        "        self.bias = self.bias - learning_rate * self.db\n",
        "```\n"
      ]
    },
    {
      "cell_type": "markdown",
      "metadata": {
        "id": "-tYYtmXeYnaZ"
      },
      "source": [
        "While not required, these next function help in printing the model\n",
        "\n",
        "```python    \n",
        "    def __repr__(self):\n",
        "        act = 'none' if self.activation == '' else self.activation\n",
        "        return f'Dense layer (nx={self.weights.shape[1]}, nh={self.weights.shape[0]}, activation={act})'\n",
        "```\n"
      ]
    },
    {
      "cell_type": "markdown",
      "metadata": {
        "id": "X8s37ly0YnaZ"
      },
      "source": [
        "### The complete DenseLayer class"
      ]
    },
    {
      "cell_type": "code",
      "execution_count": null,
      "metadata": {
        "id": "rYdB_I4XYnaZ"
      },
      "outputs": [],
      "source": [
        "class DenseLayer:\n",
        "    \"\"\"\n",
        "    A class to define fully connected layers.\n",
        "    \"\"\"\n",
        "\n",
        "    def __init__(self, inputDimension, units, activation='', randomMultiplier=0.01):\n",
        "        \"\"\"\n",
        "        Constructor:\n",
        "          inputDimension: number of input features\n",
        "          units: number of neurons in the layer\n",
        "          activation: activation function applied to layer\n",
        "            - options: 'sigmoid', 'tanh', 'relu', ''\n",
        "          randomMultiplier: multiplier applied to the random weights during initialization\n",
        "        \"\"\"\n",
        "        self.weights, self.bias = self.initialize(inputDimension, units, randomMultiplier)\n",
        "        if activation == 'sigmoid':\n",
        "            self.activation = activation\n",
        "            self.activationForward = self.sigmoid\n",
        "            self.activationBackward = self.sigmoidGrad\n",
        "        elif activation == 'relu':\n",
        "            self.activation = activation\n",
        "            self.activationForward = self.relu\n",
        "            self.activationBackward = self.reluGrad\n",
        "        elif activation == 'tanh':\n",
        "            self.activation = activation\n",
        "            self.activationForward = self.tanh\n",
        "            self.activationBackward = self.tanhGrad\n",
        "        elif activation != '':\n",
        "            raise ActivationDoesNotExist\n",
        "        else:\n",
        "            self.activation = 'none'\n",
        "            self.activationForward = self.linear\n",
        "            self.activationBackward = self.linear\n",
        "\n",
        "    def initialize(self, nx, nh, randomMultiplier):\n",
        "        \"\"\"\n",
        "        Initializes weights randomly:\n",
        "          nx: number of input features\n",
        "          nh: number of units\n",
        "          randomMultiplier: multiplier applied to the random weights during initialization\n",
        "        returns:\n",
        "          weights: the randomly initialized weights\n",
        "          bias: the bias terms\n",
        "        \"\"\"\n",
        "        weights = randomMultiplier * np.random.randn(nh, nx)\n",
        "        bias = np.zeros([nh, 1])\n",
        "        return weights, bias\n",
        "\n",
        "\n",
        "    def sigmoid(self, Z):\n",
        "        \"\"\"\n",
        "        Sigmoid activation function\n",
        "        \"\"\"\n",
        "        A = 1 / (1 + np.exp(-Z))\n",
        "        return A\n",
        "\n",
        "    def sigmoidGrad(self, dA):\n",
        "        \"\"\"\n",
        "        Differential of sigmoid function with chain rule applied\n",
        "        \"\"\"\n",
        "        s = 1 / (1 + np.exp(-self.prevZ))\n",
        "        dZ = dA * s * (1 - s)\n",
        "        return dZ\n",
        "\n",
        "\n",
        "    def relu(self, Z):\n",
        "        \"\"\"\n",
        "        Relu activation function\n",
        "        \"\"\"\n",
        "        A = np.maximum(0, Z)\n",
        "        return A\n",
        "\n",
        "    def reluGrad(self, dA):\n",
        "        \"\"\"\n",
        "        Differential of relu function with chain rule applied\n",
        "        \"\"\"\n",
        "        s = np.maximum(0, self.prevZ)\n",
        "        dZ = (s>0) * 1 * dA\n",
        "        return dZ\n",
        "\n",
        "\n",
        "    def tanh(self, Z):\n",
        "        \"\"\"\n",
        "        Tanh activation function\n",
        "        \"\"\"\n",
        "        A = np.tanh(Z)\n",
        "        return A\n",
        "\n",
        "    def tanhGrad(self, dA):\n",
        "        \"\"\"\n",
        "        Differential of tanh function with chain rule applied\n",
        "        \"\"\"\n",
        "        s = np.tanh(self.prevZ)\n",
        "        dZ = (1 - s**2) * dA\n",
        "        return dZ\n",
        "\n",
        "\n",
        "    def linear(self, Z):\n",
        "        \"\"\"\n",
        "        Placeholder when no activation function is used\n",
        "        \"\"\"\n",
        "        return Z\n",
        "\n",
        "\n",
        "    def forward(self, A):\n",
        "        \"\"\"\n",
        "        Forward pass through layer\n",
        "          A: input vector\n",
        "        \"\"\"\n",
        "        Z = np.dot(self.weights, A) + self.bias\n",
        "        self.prevZ = Z\n",
        "        self.prevA = A\n",
        "        A = self.activationForward(Z)\n",
        "        return A\n",
        "\n",
        "\n",
        "    def backward(self, dA):\n",
        "        \"\"\"\n",
        "        Backward pass through layer\n",
        "          dA: previous gradient\n",
        "        \"\"\"\n",
        "        dZ = self.activationBackward(dA)\n",
        "        m = self.prevA.shape[1]\n",
        "        self.dW = 1 / m * np.dot(dZ, self.prevA.T)\n",
        "        self.db = 1 / m * np.sum(dZ, axis=1, keepdims=True)\n",
        "        prevdA = np.dot(self.weights.T, dZ)\n",
        "        return prevdA\n",
        "\n",
        "\n",
        "    def update(self, learning_rate):\n",
        "        \"\"\"\n",
        "        Update weights using gradients from backward pass\n",
        "          learning_rate: the learning rate used in the gradient descent\n",
        "        \"\"\"\n",
        "        self.weights = self.weights - learning_rate * self.dW\n",
        "        self.bias = self.bias - learning_rate * self.db\n",
        "\n",
        "\n",
        "    def outputDimension(self):\n",
        "        \"\"\"\n",
        "        Returns the output dimension for the next layer\n",
        "        \"\"\"\n",
        "        return len(self.bias)\n",
        "\n",
        "\n",
        "    def __repr__(self):\n",
        "        \"\"\"\n",
        "        Used to print a pretty summary of the layer\n",
        "        \"\"\"\n",
        "        act = 'none' if self.activation == '' else self.activation\n",
        "        return f'Dense layer (nx={self.weights.shape[1]}, nh={self.weights.shape[0]}, activation={act})'\n",
        "\n"
      ]
    },
    {
      "cell_type": "code",
      "execution_count": null,
      "metadata": {
        "id": "hUniQiGeYnaZ"
      },
      "outputs": [],
      "source": []
    },
    {
      "cell_type": "markdown",
      "metadata": {
        "id": "qjDFwaYqYnaZ"
      },
      "source": [
        "### Alright, one down and one to go.\n",
        "Next we will create a class that will combine the layers. It will also hold the loss function and has to calculate the gradient of the loss. For convenience, we will also add a wrapper to add layers and add a way to pretty print our model."
      ]
    },
    {
      "cell_type": "markdown",
      "metadata": {
        "id": "tpp-8fHAYnaZ"
      },
      "source": [
        "First we start again with the constructor, which has two options, the loss function to be used, and the randomMultiplier used for new layers. The loss function are again created in a function reference and are called using wrapper functions.\n",
        "\n",
        "The model starts with no layers (empty).\n",
        "\n",
        "```python\n",
        "class NeuralNetwork:\n",
        "    def __init__(self, loss='cross-entropy', randomMultiplier = 0.01):\n",
        "        self.layers=[]\n",
        "        self.randomMultiplier = randomMultiplier\n",
        "        if loss=='cross-entropy':\n",
        "            self.lossFunction = self.crossEntropyLoss\n",
        "            self.lossBackward = self.crossEntropyLossGrad\n",
        "        elif loss=='mean-square-error':\n",
        "            self.lossFunction = self.meanSquareError\n",
        "            self.lossBackward = self.meanSquareErrorGrad\n",
        "        else:\n",
        "            raise LossFunctionNotDefined\n",
        "        self.loss=loss\n",
        "```\n"
      ]
    },
    {
      "cell_type": "markdown",
      "metadata": {
        "id": "vbcHcWDWYnaa"
      },
      "source": [
        "The next function is a helper function to add layers to the model. You need to give the inputDimension, i.e. the number of input features of the first layer. For the second and further, it will look for the previous layer and use that as the input dimension.\n",
        "\n",
        "You have to specify the number of neurons in the layer (units) and which activation function to use.\n",
        "\n",
        "```python\n",
        "    def addLayer(self, inputDimension=None, units=1, activation=''):\n",
        "        if (inputDimension is None):\n",
        "            if (len(self.layers)==0):\n",
        "                raise InputDimensionNotCorrect\n",
        "            inputDimension=self.layers[-1].outputDimension()\n",
        "        layer = DenseLayer(inputDimension, units, activation, randomMultiplier= self.randomMultiplier)\n",
        "        self.layers.append(layer)\n",
        "```"
      ]
    },
    {
      "cell_type": "markdown",
      "metadata": {
        "id": "6RrD_LoxYnaa"
      },
      "source": [
        "Next we define the loss functions and their differentials. Feel free to check if the differentials are correct. the cost method is a wrapper to cal the cost in the training loop later.\n",
        "\n",
        "```python\n",
        "    def crossEntropyLoss(self, Y, A, epsilon=1e-15):\n",
        "        m = Y.shape[1]\n",
        "        loss = -1 * (Y * np.log(A + epsilon) + (1 - Y) * np.log(1 - A + epsilon))\n",
        "        cost = 1 / m * np.sum(loss)\n",
        "        return np.squeeze(cost)\n",
        "            \n",
        "    def crossEntropyLossGrad(self, Y, A):\n",
        "        dA = -(np.divide(Y, A) - np.divide(1 - Y, 1 - A))\n",
        "        return dA\n",
        "    \n",
        "    \n",
        "    def meanSquareError(self, Y, A):\n",
        "        loss = np.square(Y - A)\n",
        "        m = Y.shape[1]\n",
        "        cost = 1 / m * np.sum(loss)\n",
        "        return np.squeeze(cost)\n",
        "    \n",
        "    def meanSquareErrorGrad(self, Y, A):\n",
        "        dA = -2 * (Y - A)\n",
        "        return dA\n",
        "\n",
        "    \n",
        "    def cost(self, Y, A):\n",
        "        return self.lossFunction(Y, A)\n",
        "```"
      ]
    },
    {
      "cell_type": "markdown",
      "metadata": {
        "id": "rD0CgvgbYnaa"
      },
      "source": [
        "The forward, backward, and update method are quite similar as they loop over the layers:\n",
        "\n",
        "```python\n",
        "    def forward(self, X):\n",
        "        x = np.copy(X)\n",
        "        for layer in self.layers:\n",
        "            x = layer.forward(x)\n",
        "        return x\n",
        "            \n",
        "    \n",
        "    def backward(self, A, Y):\n",
        "        dA = self.lossBackward(Y, A)\n",
        "        for layer in reversed(self.layers):\n",
        "            dA = layer.backward(dA)\n",
        "    \n",
        "    \n",
        "    def update(self, learning_rate=0.01):\n",
        "        for layer in self.layers:\n",
        "            layer.update(learning_rate)\n",
        "```\n",
        "\n",
        "the backward pass first hast to calculate the first dA, which is de gradient between the activation and the real values. This is then looped through the layers to calculate all gradients.\n"
      ]
    },
    {
      "cell_type": "markdown",
      "metadata": {
        "id": "LkZF67zdYnaa"
      },
      "source": [
        "The last two methods are again for pretty printing and one for trainable parameter counting. Nothing special."
      ]
    },
    {
      "cell_type": "markdown",
      "metadata": {
        "id": "OSfKvJ8rYnaa"
      },
      "source": [
        "### The complete NeuralNetwork class"
      ]
    },
    {
      "cell_type": "code",
      "execution_count": null,
      "metadata": {
        "id": "YjQSvkftYnaa"
      },
      "outputs": [],
      "source": [
        "class NeuralNetwork:\n",
        "    \"\"\"\n",
        "    Neural Network structure that holds our layers\n",
        "    \"\"\"\n",
        "\n",
        "    def __init__(self, loss='cross-entropy', randomMultiplier = 0.01):\n",
        "        \"\"\"\n",
        "        Constructor:\n",
        "          loss: the loss function. Two are defined:\n",
        "             - 'cross-entropy' and 'mean-square-error'\n",
        "          randomMultiplier: multiplier applied to the random weights during initialization\n",
        "        \"\"\"\n",
        "        self.layers=[]\n",
        "        self.randomMultiplier = randomMultiplier\n",
        "        if loss=='cross-entropy':\n",
        "            self.lossFunction = self.crossEntropyLoss\n",
        "            self.lossBackward = self.crossEntropyLossGrad\n",
        "        elif loss=='mean-square-error':\n",
        "            self.lossFunction = self.meanSquareError\n",
        "            self.lossBackward = self.meanSquareErrorGrad\n",
        "        else:\n",
        "            raise LossFunctionNotDefined\n",
        "        self.loss=loss\n",
        "\n",
        "\n",
        "    def addLayer(self, inputDimension=None, units=1, activation=''):\n",
        "        \"\"\"\n",
        "        Adds a Dense layer to the network:\n",
        "          inputDimension: required when it is the first layer. otherwise takes dimensions of previous layer.\n",
        "          units: number of neurons in the layer\n",
        "          activation: activation function: valid choices are: 'sigmoid', 'tanh', 'relu', ''\n",
        "        \"\"\"\n",
        "        if (inputDimension is None):\n",
        "            if (len(self.layers)==0):\n",
        "                raise InputDimensionNotCorrect\n",
        "            inputDimension=self.layers[-1].outputDimension()\n",
        "        layer = DenseLayer(inputDimension, units, activation, randomMultiplier= self.randomMultiplier)\n",
        "        self.layers.append(layer)\n",
        "\n",
        "    def crossEntropyLoss(self, Y, A, epsilon=1e-15):\n",
        "        \"\"\"\n",
        "        Cross Entropy loss function\n",
        "          Y: true labels\n",
        "          A: final activation function (predicted labels)\n",
        "          epsilon: small value to make minimize chance for log(0) error\n",
        "        \"\"\"\n",
        "        m = Y.shape[1]\n",
        "        loss = -1 * (Y * np.log(A + epsilon) + (1 - Y) * np.log(1 - A + epsilon))\n",
        "        cost = 1 / m * np.sum(loss)\n",
        "        return np.squeeze(cost)\n",
        "\n",
        "    def crossEntropyLossGrad(self, Y, A):\n",
        "        \"\"\"\n",
        "        Cross Entropy loss Gradient\n",
        "          Y: true labels\n",
        "          A: final activation function (predicted labels)\n",
        "        \"\"\"\n",
        "        dA = -(np.divide(Y, A) - np.divide(1 - Y, 1 - A))\n",
        "        return dA\n",
        "\n",
        "\n",
        "    def meanSquareError(self, Y, A):\n",
        "        \"\"\"\n",
        "        Mean square error loss function\n",
        "          Y: true labels\n",
        "          A: final activation function (predicted labels)\n",
        "        \"\"\"\n",
        "        loss = np.square(Y - A)\n",
        "        m = Y.shape[1]\n",
        "        cost = 1 / m * np.sum(loss)\n",
        "        return np.squeeze(cost)\n",
        "\n",
        "    def meanSquareErrorGrad(self, Y, A):\n",
        "        \"\"\"\n",
        "        Mean square error loss gradient\n",
        "          Y: true labels\n",
        "          A: final activation function (predicted labels)\n",
        "        \"\"\"\n",
        "        dA = -2 * (Y - A)\n",
        "        return dA\n",
        "\n",
        "\n",
        "    def cost(self, Y, A):\n",
        "        \"\"\"\n",
        "        Cost function wrapper\n",
        "          Y: true labels\n",
        "          A: final activation function (predicted labels)\n",
        "        \"\"\"\n",
        "        return self.lossFunction(Y, A)\n",
        "\n",
        "\n",
        "    def forward(self, X):\n",
        "        \"\"\"\n",
        "        Forward pass through the whole model.\n",
        "          X: input vector\n",
        "        \"\"\"\n",
        "        x = np.copy(X)\n",
        "        for layer in self.layers:\n",
        "            x = layer.forward(x)\n",
        "        return x\n",
        "\n",
        "\n",
        "    def backward(self, A, Y):\n",
        "        \"\"\"\n",
        "        backward pass through the whole model\n",
        "          Y: true labels\n",
        "          A: final activation function (predicted labels)\n",
        "        \"\"\"\n",
        "        dA = self.lossBackward(Y, A)\n",
        "        for layer in reversed(self.layers):\n",
        "            dA = layer.backward(dA)\n",
        "\n",
        "\n",
        "    def update(self, learning_rate=0.01):\n",
        "        \"\"\"\n",
        "        Update weights and do a step of gradient descent for the whole model.\n",
        "          learning_rate: learning_rate to use\n",
        "        \"\"\"\n",
        "        for layer in self.layers:\n",
        "            layer.update(learning_rate)\n",
        "\n",
        "\n",
        "    def __repr__(self):\n",
        "        \"\"\"\n",
        "        Pretty print the model\n",
        "        \"\"\"\n",
        "        layrepr = ['  ' + str(ix+1)+' -> ' + str(x) for ix, x in enumerate(self.layers)]\n",
        "        return '[\\n' + '\\n'.join(layrepr) + '\\n]'\n",
        "\n",
        "\n",
        "    def numberOfParameters(self):\n",
        "        \"\"\"\n",
        "        Print number of trainable parameters in the model\n",
        "        \"\"\"\n",
        "        n = 0\n",
        "        for layer in self.layers:\n",
        "            n += np.size(layer.weights) + len(layer.bias)\n",
        "        print(f'There are {n} trainable parameters in the model.')\n"
      ]
    },
    {
      "cell_type": "markdown",
      "metadata": {
        "id": "jPsr5O_CYnab"
      },
      "source": [
        "Alright, the classes are done. Now we need to put these classes to a test. While it looks quite ordered, a small error in one of the differentials can make our whole system useless. Therefore, we will test in small steps in the next section. Looking forward for the spin!"
      ]
    },
    {
      "cell_type": "markdown",
      "metadata": {
        "id": "Jw8S1-8LYnab"
      },
      "source": [
        "## Ex1). Does it do what it is supposed to do? (4 points)"
      ]
    },
    {
      "cell_type": "markdown",
      "metadata": {
        "id": "2qIYXx9VYnab"
      },
      "source": [
        "Nothing is more ennoying than waiting for nothing. Therefore, it is important to first test the easy things instead of training for hours to see that you made a mistake in the loss function. Let us repeat the experiments from last time"
      ]
    },
    {
      "cell_type": "markdown",
      "metadata": {
        "id": "guiYfD2PYnab"
      },
      "source": [
        "### Ex 1.1 Linear regression: 25 all over again! (2 points)"
      ]
    },
    {
      "cell_type": "markdown",
      "metadata": {
        "id": "E-4wqNarYnac"
      },
      "source": [
        "We created an array with a couple of input values $X$. Next we supplied $Y$ using the super duper complicated formula $y = 2x + 1$. In Numpy this looks like this:"
      ]
    },
    {
      "cell_type": "code",
      "source": [
        "import numpy as np"
      ],
      "metadata": {
        "id": "m8QguaNmQK8o"
      },
      "execution_count": null,
      "outputs": []
    },
    {
      "cell_type": "code",
      "execution_count": null,
      "metadata": {
        "id": "WwPq6Dk8Ynac"
      },
      "outputs": [],
      "source": [
        "X = np.arange(-2, 5, 1).reshape([1, 7]) # Columns as examples\n",
        "Y = 2 * X + 1"
      ]
    },
    {
      "cell_type": "markdown",
      "metadata": {
        "id": "SQJQ60yrYnac"
      },
      "source": [
        "Now we will build our model which will try to find our difficult formula and match the true value of 25. For this we will initiate our fresh class and set the loss to mean-square-error. Next we will add a single layer, with a single neuron and no activation function. Lets also try our pretty print :-)"
      ]
    },
    {
      "cell_type": "code",
      "execution_count": null,
      "metadata": {
        "id": "9oBvjh0iYnac",
        "colab": {
          "base_uri": "https://localhost:8080/"
        },
        "outputId": "632d8b4a-678c-4c9d-b1ed-736f1caf426e"
      },
      "outputs": [
        {
          "output_type": "execute_result",
          "data": {
            "text/plain": [
              "[\n",
              "  1 -> Dense layer (nx=1, nh=1, activation=none)\n",
              "]"
            ]
          },
          "metadata": {},
          "execution_count": 39
        }
      ],
      "source": [
        "np.random.seed(1)\n",
        "\n",
        "model = NeuralNetwork(loss='mean-square-error')\n",
        "model.addLayer(inputDimension=1, units=1, activation='')\n",
        "model"
      ]
    },
    {
      "cell_type": "markdown",
      "metadata": {
        "id": "mxLEd262Ynac"
      },
      "source": [
        "Now we will need our training loop again. It will look very familiar to our logistic regression model from last time:"
      ]
    },
    {
      "cell_type": "code",
      "execution_count": null,
      "metadata": {
        "id": "i3QrXRjoYnac",
        "colab": {
          "base_uri": "https://localhost:8080/"
        },
        "outputId": "e6cb482b-1fe8-4adb-e19b-a251e389e8db"
      },
      "outputs": [
        {
          "output_type": "stream",
          "name": "stdout",
          "text": [
            "cost: 24.643963268924306\n",
            "cost: 0.009408179907957642\n",
            "cost: 0.00043269013393172113\n",
            "cost: 1.989979716251954e-05\n",
            "cost: 9.152090515935006e-07\n",
            "cost: 4.2091263608210285e-08\n",
            "cost: 1.935813975001762e-09\n",
            "cost: 8.902977540761639e-11\n",
            "cost: 4.094557128292547e-12\n",
            "cost: 1.8831225851087109e-13\n"
          ]
        }
      ],
      "source": [
        "num_iterations = 1000\n",
        "for ix in range(num_iterations):\n",
        "    A = model.forward(X)\n",
        "    model.backward(A, Y)\n",
        "    model.update()\n",
        "    if ix % 100 == 0:\n",
        "        print('cost:', model.cost(Y, A))"
      ]
    },
    {
      "cell_type": "markdown",
      "metadata": {
        "id": "KdAIEiusYnac"
      },
      "source": [
        "The cost decreases as expected and due to the long training the value is close to machine precision. Would we again find 25 when we use the forward?"
      ]
    },
    {
      "cell_type": "code",
      "execution_count": null,
      "metadata": {
        "id": "UVBDmEHKYnac",
        "colab": {
          "base_uri": "https://localhost:8080/"
        },
        "outputId": "7da5859a-3e62-418d-8729-6df47be4acce"
      },
      "outputs": [
        {
          "output_type": "execute_result",
          "data": {
            "text/plain": [
              "array([[25.00000019]])"
            ]
          },
          "metadata": {},
          "execution_count": 41
        }
      ],
      "source": [
        "model.forward(12)"
      ]
    },
    {
      "cell_type": "markdown",
      "metadata": {
        "id": "bIyoz_XPYnac"
      },
      "source": [
        "Of course we do!"
      ]
    },
    {
      "cell_type": "code",
      "execution_count": null,
      "metadata": {
        "id": "usfq0Yk_Ynad"
      },
      "outputs": [],
      "source": []
    },
    {
      "cell_type": "markdown",
      "metadata": {
        "id": "E5tZrqrYYnad"
      },
      "source": [
        "### Ex 1.2 A go at our Titanic dataset (2 points)"
      ]
    },
    {
      "cell_type": "code",
      "execution_count": null,
      "metadata": {
        "id": "WduTB6rNYnad"
      },
      "outputs": [],
      "source": [
        "import pandas as pd"
      ]
    },
    {
      "cell_type": "code",
      "execution_count": null,
      "metadata": {
        "id": "dYQ-sdC3Ynad"
      },
      "outputs": [],
      "source": [
        "df = pd.read_csv('./data/titanic/train_data.csv')\n",
        "df = df.drop(['Unnamed: 0', 'PassengerId'], axis=1)\n",
        "Y = df['Survived'].to_numpy().reshape([1, -1])\n",
        "X = df.iloc[:,1:].to_numpy().T"
      ]
    },
    {
      "cell_type": "code",
      "execution_count": null,
      "metadata": {
        "id": "ankU5ItgYnad",
        "colab": {
          "base_uri": "https://localhost:8080/"
        },
        "outputId": "7da90df8-b5cd-4809-c758-ff30f3a7dce3"
      },
      "outputs": [
        {
          "output_type": "execute_result",
          "data": {
            "text/plain": [
              "(14, 792)"
            ]
          },
          "metadata": {},
          "execution_count": 44
        }
      ],
      "source": [
        "X.shape"
      ]
    },
    {
      "cell_type": "code",
      "execution_count": null,
      "metadata": {
        "id": "KtAjMP9ZYnad",
        "colab": {
          "base_uri": "https://localhost:8080/"
        },
        "outputId": "b7dd622d-fa75-41f1-8576-4eaef2cb01de"
      },
      "outputs": [
        {
          "output_type": "execute_result",
          "data": {
            "text/plain": [
              "(1, 792)"
            ]
          },
          "metadata": {},
          "execution_count": 45
        }
      ],
      "source": [
        "Y.shape"
      ]
    },
    {
      "cell_type": "markdown",
      "metadata": {
        "id": "GTx3KGp8Ynad"
      },
      "source": [
        "We need to change the model to have 14 input features and of course the sigmoid activation function. The loss function will be cross-entropy, which is the default, so we do not need to specify it."
      ]
    },
    {
      "cell_type": "code",
      "execution_count": null,
      "metadata": {
        "id": "N9nNSPKuYnad",
        "colab": {
          "base_uri": "https://localhost:8080/"
        },
        "outputId": "0565e9db-f5ea-4e25-a153-7db1bb2f650f"
      },
      "outputs": [
        {
          "output_type": "execute_result",
          "data": {
            "text/plain": [
              "[\n",
              "  1 -> Dense layer (nx=14, nh=1, activation=sigmoid)\n",
              "]"
            ]
          },
          "metadata": {},
          "execution_count": 46
        }
      ],
      "source": [
        "np.random.seed(1)\n",
        "\n",
        "model = NeuralNetwork()\n",
        "model.addLayer(inputDimension=14, units=1, activation='sigmoid')\n",
        "model"
      ]
    },
    {
      "cell_type": "markdown",
      "metadata": {
        "id": "goC62oqsYnae"
      },
      "source": [
        "Last time, we had an train accuracy of 80%. Can we match this as well?"
      ]
    },
    {
      "cell_type": "code",
      "execution_count": null,
      "metadata": {
        "id": "GQnG-K6bYnae"
      },
      "outputs": [],
      "source": [
        "def roundValue(A):\n",
        "    return np.uint8( A > 0.5)\n",
        "\n",
        "def accuracy(yhat, Y):\n",
        "    return round(np.sum(yhat==Y) / len(yhat.flatten()) * 1000) / 10"
      ]
    },
    {
      "cell_type": "code",
      "execution_count": null,
      "metadata": {
        "id": "m9BHPKlIYnae",
        "colab": {
          "base_uri": "https://localhost:8080/"
        },
        "outputId": "71ac1c8f-a161-4b11-84f4-ce32459c5aeb"
      },
      "outputs": [
        {
          "output_type": "stream",
          "name": "stdout",
          "text": [
            "cost: 0.6912384614194468 \taccuracy: 58.7%\n",
            "cost: 0.5140056920509907 \taccuracy: 75.9%\n",
            "cost: 0.4824062497934128 \taccuracy: 79.5%\n",
            "cost: 0.4697113881273363 \taccuracy: 79.5%\n",
            "cost: 0.46275860969195476 \taccuracy: 79.8%\n",
            "cost: 0.4580742945870081 \taccuracy: 79.8%\n",
            "cost: 0.4544915367177524 \taccuracy: 79.8%\n",
            "cost: 0.4515471545581365 \taccuracy: 80.8%\n"
          ]
        }
      ],
      "source": [
        "num_iterations = 8000\n",
        "for ix in range(num_iterations):\n",
        "    A = model.forward(X)\n",
        "    model.backward(A, Y)\n",
        "    model.update()\n",
        "    if ix % 1000 == 0:\n",
        "        yhat = roundValue(A)\n",
        "        print('cost:', model.cost(Y, A), f'\\taccuracy: {accuracy(yhat, Y)}%')"
      ]
    },
    {
      "cell_type": "markdown",
      "source": [
        "Of course we can!"
      ],
      "metadata": {
        "id": "gR-UE4ebXqxU"
      }
    },
    {
      "cell_type": "markdown",
      "source": [],
      "metadata": {
        "id": "0a6pzyGfXsLG"
      }
    },
    {
      "cell_type": "code",
      "source": [],
      "metadata": {
        "id": "FtJTnGYSXs1x"
      },
      "execution_count": null,
      "outputs": []
    },
    {
      "cell_type": "markdown",
      "metadata": {
        "id": "NfKWyWNHYnaf"
      },
      "source": [
        "## Ex2) Complex fit of flowers (4 points)"
      ]
    },
    {
      "cell_type": "markdown",
      "metadata": {
        "id": "A_PTyVq4Ynaf"
      },
      "source": [
        "The cool stuf starts with more complex functions. The [Deep learning course from Andrew Ng](https://www.coursera.org/learn/neural-networks-deep-learning?specialization=deep-learning) show a way to predict [Rose-functions](https://en.wikipedia.org/wiki/Rose_(mathematics)) using a model with multiple nodes. Lets try that as well!\n",
        "\n",
        "First we need to import the data:"
      ]
    },
    {
      "cell_type": "code",
      "source": [
        "import numpy as np\n",
        "def testModel(X, Y, h=0.1, f=1.05):\n",
        "    r = X.max()\n",
        "    xmesh, ymesh = np.meshgrid(np.arange(-r*f, r*f+h, h), np.arange(-r*f, r*f+h, h))\n",
        "    Z = model.forward(((np.c_[xmesh.ravel(), ymesh.ravel()]).T))\n",
        "    Z = (Z > 0.5) * 1\n",
        "    Z = Z.T.reshape(xmesh.shape)\n",
        "    plt.contourf(xmesh, ymesh, Z, cmap=plt.cm.OrRd)\n",
        "    plt.scatter(X[0, :], X[1, :], c=Y.flatten(), cmap=plt.cm.OrRd)"
      ],
      "metadata": {
        "id": "e7pyI1yka-p_"
      },
      "execution_count": null,
      "outputs": []
    },
    {
      "cell_type": "code",
      "execution_count": null,
      "metadata": {
        "id": "qMMal0QFYnaf"
      },
      "outputs": [],
      "source": [
        "# Let's load our data\n",
        "data = np.load('./data/rose/rose.npz')\n",
        "X, Y = data['X'], data['Y']"
      ]
    },
    {
      "cell_type": "markdown",
      "metadata": {
        "id": "Zo5iuacCYnaf"
      },
      "source": [
        "To give a feel how it looks, we will first plot the rose, which has 7 petals:"
      ]
    },
    {
      "cell_type": "code",
      "execution_count": null,
      "metadata": {
        "id": "od7DDx7YYnaf"
      },
      "outputs": [],
      "source": [
        "import matplotlib.pyplot as plt"
      ]
    },
    {
      "cell_type": "code",
      "execution_count": null,
      "metadata": {
        "id": "kuZmpnJAYnag",
        "colab": {
          "base_uri": "https://localhost:8080/",
          "height": 539
        },
        "outputId": "e7e7438a-e36b-4999-9e8b-ccebc6e501b6"
      },
      "outputs": [
        {
          "output_type": "execute_result",
          "data": {
            "text/plain": [
              "<matplotlib.collections.PathCollection at 0x7d1f115dcfa0>"
            ]
          },
          "metadata": {},
          "execution_count": 20
        },
        {
          "output_type": "display_data",
          "data": {
            "text/plain": [
              "<Figure size 600x600 with 1 Axes>"
            ],
            "image/png": "[encoded data removed]"
          },
          "metadata": {}
        }
      ],
      "source": [
        "fig, ax = plt.subplots(1, 1, figsize=(6, 6))\n",
        "plt.scatter(X[0,:], X[1,:], c=Y.flatten())"
      ]
    },
    {
      "cell_type": "markdown",
      "metadata": {
        "id": "UVKVjDw3Ynag"
      },
      "source": [
        "We discussed before that a logistic regression model, like we have defined in our previous example, can only divide in a line. Lets try this out, as the data is clearly not defined in a line."
      ]
    },
    {
      "cell_type": "code",
      "execution_count": null,
      "metadata": {
        "id": "n4JRKEVSYnag",
        "colab": {
          "base_uri": "https://localhost:8080/"
        },
        "outputId": "52bd8f10-3858-45b5-f34f-617fc9178622"
      },
      "outputs": [
        {
          "output_type": "execute_result",
          "data": {
            "text/plain": [
              "[\n",
              "  1 -> Dense layer (nx=2, nh=1, activation=sigmoid)\n",
              "]"
            ]
          },
          "metadata": {},
          "execution_count": 21
        }
      ],
      "source": [
        "np.random.seed(1)\n",
        "\n",
        "model = NeuralNetwork()\n",
        "model.addLayer(inputDimension=2, units=1, activation='sigmoid')\n",
        "model"
      ]
    },
    {
      "cell_type": "code",
      "execution_count": null,
      "metadata": {
        "id": "-tJDZBn4Ynag",
        "colab": {
          "base_uri": "https://localhost:8080/"
        },
        "outputId": "3903680a-1312-4ec7-e359-16551b4376ac"
      },
      "outputs": [
        {
          "output_type": "stream",
          "name": "stdout",
          "text": [
            "cost: 0.6927732264810165\n"
          ]
        }
      ],
      "source": [
        "num_iterations = 1000\n",
        "for ix in range(num_iterations):\n",
        "    A = model.forward(X)\n",
        "    model.backward(A, Y)\n",
        "    model.update(learning_rate=1.2)\n",
        "    if ix % 1000 == 0:\n",
        "        print('cost:', model.cost(Y, A))"
      ]
    },
    {
      "cell_type": "markdown",
      "metadata": {
        "id": "q37ZURKIYnag"
      },
      "source": [
        "A short piece of code to generate a contour plot and our Rose"
      ]
    },
    {
      "cell_type": "code",
      "execution_count": null,
      "metadata": {
        "id": "UiiPh-czYnag",
        "colab": {
          "base_uri": "https://localhost:8080/",
          "height": 430
        },
        "outputId": "209bf409-ae69-41cc-caf3-b8fa6fdc3130"
      },
      "outputs": [
        {
          "output_type": "display_data",
          "data": {
            "text/plain": [
              "<Figure size 640x480 with 1 Axes>"
            ],
            "image/png": "[encoded data removed]"
          },
          "metadata": {}
        }
      ],
      "source": [
        "testModel(X, Y)"
      ]
    },
    {
      "cell_type": "markdown",
      "metadata": {
        "id": "JpUgbGGdYnag"
      },
      "source": [
        "Definitely not a great fit and clearly a line. Now lets add another layer with four units to the model, with the last layer being the same sigmoid layer. The activation function for this model we keep similar to the one from Andrew, which was a tanh."
      ]
    },
    {
      "cell_type": "code",
      "execution_count": null,
      "metadata": {
        "id": "u8Gg9vGBYnah",
        "colab": {
          "base_uri": "https://localhost:8080/"
        },
        "outputId": "19db3ccd-ab26-4b8e-bea5-937e976dccab"
      },
      "outputs": [
        {
          "output_type": "execute_result",
          "data": {
            "text/plain": [
              "[\n",
              "  1 -> Dense layer (nx=2, nh=4, activation=tanh)\n",
              "  2 -> Dense layer (nx=4, nh=1, activation=sigmoid)\n",
              "]"
            ]
          },
          "metadata": {},
          "execution_count": 24
        }
      ],
      "source": [
        "np.random.seed(1)\n",
        "\n",
        "model = NeuralNetwork()\n",
        "model.addLayer(inputDimension=2, units=4, activation='tanh')\n",
        "model.addLayer(units=1, activation='sigmoid')\n",
        "model"
      ]
    },
    {
      "cell_type": "code",
      "execution_count": null,
      "metadata": {
        "id": "AST-GxmYYnah",
        "colab": {
          "base_uri": "https://localhost:8080/"
        },
        "outputId": "3b4232c9-f9c1-474e-b21f-16e27fcd114c"
      },
      "outputs": [
        {
          "output_type": "stream",
          "name": "stdout",
          "text": [
            "cost: 0.6931058695708833\n",
            "cost: 0.018725110460137015\n",
            "cost: 0.01096037547619665\n",
            "cost: 0.007723264407820051\n"
          ]
        }
      ],
      "source": [
        "num_iterations = 4000\n",
        "for ix in range(num_iterations):\n",
        "    A = model.forward(X)\n",
        "    model.backward(A, Y)\n",
        "    model.update(learning_rate=1.2)\n",
        "    if ix % 1000 == 0:\n",
        "        print('cost:', model.cost(Y, A))"
      ]
    },
    {
      "cell_type": "code",
      "execution_count": null,
      "metadata": {
        "id": "ksAoyXP1Ynah",
        "colab": {
          "base_uri": "https://localhost:8080/",
          "height": 430
        },
        "outputId": "8f25e785-1d60-46bf-f595-1ced26941a19"
      },
      "outputs": [
        {
          "output_type": "display_data",
          "data": {
            "text/plain": [
              "<Figure size 640x480 with 1 Axes>"
            ],
            "image/png": "[encoded data removed]"
          },
          "metadata": {}
        }
      ],
      "source": [
        "testModel(X,Y)"
      ]
    },
    {
      "cell_type": "markdown",
      "metadata": {
        "id": "1o_C8CDbYnah"
      },
      "source": [
        "This is something that really amazes me. Just a tiny layer more and we have the power to learn this much more complex function. Really great stuff!"
      ]
    },
    {
      "cell_type": "markdown",
      "metadata": {
        "id": "RfHJ4U5UYnai"
      },
      "source": [
        "## Ex3) Kitty Detection! (2 points)\n",
        "In the same course from Andrew, they pointed out that there is a terrible shortage of cat-detectors on the internet. Therefore, our class should detect cats in style! Lets download the same dataset. For details, please check out Andrew's Course, which is big fun!"
      ]
    },
    {
      "cell_type": "code",
      "execution_count": null,
      "metadata": {
        "id": "1oU-QdGGYnai",
        "colab": {
          "base_uri": "https://localhost:8080/",
          "height": 52
        },
        "outputId": "7c9062c3-37fd-4d78-d596-f213f60436e9"
      },
      "outputs": [
        {
          "output_type": "display_data",
          "data": {
            "text/plain": [
              "(12288, 209)"
            ]
          },
          "metadata": {}
        },
        {
          "output_type": "display_data",
          "data": {
            "text/plain": [
              "(1, 209)"
            ]
          },
          "metadata": {}
        }
      ],
      "source": [
        "data = np.load('./data/cats/cats.npz')\n",
        "X_train, y_train = data['Xtrain'], data['Ytrain']\n",
        "X_test, y_test = data['Xtest'], data['Ytest']\n",
        "display(X_train.shape)\n",
        "display(y_train.shape)"
      ]
    },
    {
      "cell_type": "markdown",
      "metadata": {
        "id": "Z94ZPG6MYnai"
      },
      "source": [
        "Same functions as before."
      ]
    },
    {
      "cell_type": "code",
      "execution_count": null,
      "metadata": {
        "id": "CMvK3YERYnaj"
      },
      "outputs": [],
      "source": [
        "def roundValue(A):\n",
        "    return np.uint8( A > 0.5)\n",
        "\n",
        "def accuracy(yhat, Y):\n",
        "    return round(np.sum(yhat==Y) / len(yhat.flatten()) * 1000) / 10"
      ]
    },
    {
      "cell_type": "markdown",
      "metadata": {
        "id": "J6vjLs7pYnaj"
      },
      "source": [
        "The model will be the same as the two layer model from the course. first layer has 7 units and a Relu activation function. Second layer is the sigmoid cat/no-cat layer."
      ]
    },
    {
      "cell_type": "code",
      "execution_count": null,
      "metadata": {
        "id": "8at1sjWEYnaj",
        "colab": {
          "base_uri": "https://localhost:8080/"
        },
        "outputId": "53ce3243-c8bc-4697-f878-fa1a3d1c50b4"
      },
      "outputs": [
        {
          "output_type": "execute_result",
          "data": {
            "text/plain": [
              "[\n",
              "  1 -> Dense layer (nx=12288, nh=7, activation=relu)\n",
              "  2 -> Dense layer (nx=7, nh=1, activation=sigmoid)\n",
              "]"
            ]
          },
          "metadata": {},
          "execution_count": 29
        }
      ],
      "source": [
        "nx = X_train.shape[0]\n",
        "\n",
        "np.random.seed(1)\n",
        "\n",
        "model = NeuralNetwork()\n",
        "model.addLayer(inputDimension=nx, units=7, activation='relu')\n",
        "model.addLayer(units=1, activation='sigmoid')\n",
        "model"
      ]
    },
    {
      "cell_type": "code",
      "execution_count": null,
      "metadata": {
        "id": "FiDOXq2rYnaj",
        "colab": {
          "base_uri": "https://localhost:8080/"
        },
        "outputId": "6f1679a9-77e4-4c74-c1f2-2222fbc246a7"
      },
      "outputs": [
        {
          "output_type": "stream",
          "name": "stdout",
          "text": [
            "cost: 0.5638451365986756 \taccuracy: 65.6%\n",
            "cost: 0.5020981427480248 \taccuracy: 66.5%\n",
            "cost: 0.4529594637416238 \taccuracy: 81.3%\n",
            "cost: 0.39260693267512303 \taccuracy: 77.5%\n",
            "cost: 0.4667194566908364 \taccuracy: 75.6%\n",
            "cost: 0.4269087148057096 \taccuracy: 75.6%\n",
            "cost: 0.1932177208195828 \taccuracy: 93.3%\n",
            "cost: 0.156830189003964 \taccuracy: 96.2%\n",
            "cost: 0.07456765180491658 \taccuracy: 98.6%\n",
            "cost: 0.046726884998074994 \taccuracy: 99.0%\n"
          ]
        }
      ],
      "source": [
        "num_iterations = 1000\n",
        "for ix in range(1, num_iterations+1):\n",
        "    A = model.forward(X_train)\n",
        "    model.backward(A, y_train)\n",
        "    model.update(learning_rate=0.03)\n",
        "    if ix % 100 == 0:\n",
        "        yhat_test = roundValue(A)\n",
        "        print('cost:', model.cost(y_train, A), f'\\taccuracy: {accuracy(yhat_test, y_train)}%')"
      ]
    },
    {
      "cell_type": "markdown",
      "metadata": {
        "id": "NjVsxQrMYnak"
      },
      "source": [
        "Amazing accuracy. But we of course all know we should check this with a proper test set:"
      ]
    },
    {
      "cell_type": "code",
      "execution_count": null,
      "metadata": {
        "id": "cIYb-ebSYnak",
        "colab": {
          "base_uri": "https://localhost:8080/"
        },
        "outputId": "80b6e2bc-dd9f-4131-8002-7808642bb805"
      },
      "outputs": [
        {
          "output_type": "execute_result",
          "data": {
            "text/plain": [
              "72.0"
            ]
          },
          "metadata": {},
          "execution_count": 31
        }
      ],
      "source": [
        "A = model.forward(X_test)\n",
        "yhat_test = roundValue(A)\n",
        "acc = accuracy(yhat_test, y_test)\n",
        "acc"
      ]
    },
    {
      "cell_type": "markdown",
      "metadata": {
        "id": "qv1MjXhlYnak"
      },
      "source": [
        "An accuracy of 74% is definitely not bad for such a simple model which only works on pixel values. For the fun of it, lets look at some samples:"
      ]
    },
    {
      "cell_type": "code",
      "execution_count": null,
      "metadata": {
        "id": "L0exh7oXYnak",
        "colab": {
          "base_uri": "https://localhost:8080/",
          "height": 447
        },
        "outputId": "cbcffa72-cb65-4881-c6be-447e24566fc8"
      },
      "outputs": [
        {
          "output_type": "display_data",
          "data": {
            "text/plain": [
              "<Figure size 1600x800 with 3 Axes>"
            ],
            "image/png": "[encoded data removed]"
          },
          "metadata": {}
        }
      ],
      "source": [
        "n = 3\n",
        "\n",
        "imgs = X_test.T.reshape([50, 64, 64, 3])\n",
        "\n",
        "fig, ax = plt.subplots(1, n, figsize=(16,8))\n",
        "for ix in range(n):\n",
        "    num = np.random.randint(imgs.shape[0])\n",
        "    ax[ix].imshow(imgs[num])\n",
        "    if yhat.flatten()[num] == 0:\n",
        "        ax[ix].set_title('This is clearly not a cat')\n",
        "    else:\n",
        "        ax[ix].set_title('Yup! it\\'s a cat')\n"
      ]
    },
    {
      "cell_type": "markdown",
      "metadata": {
        "id": "dhwpjVLgYnae"
      },
      "source": [
        "Of course we can!\n",
        "Now let's go to [part 2!](https://colab.research.google.com/drive/1LdSuum7l2x-r5RHVd1dCVEWRCcRk1Y73?usp=sharing)"
      ]
    },
    {
      "cell_type": "markdown",
      "metadata": {
        "id": "xUZ99lNyYnal"
      },
      "source": [
        "## Apendix (Not for points!)\n",
        "Only spreading the knowledge"
      ]
    },
    {
      "cell_type": "markdown",
      "metadata": {
        "id": "Pc0AoxY_Ynal"
      },
      "source": [
        "### Generating Rose Data"
      ]
    },
    {
      "cell_type": "code",
      "execution_count": null,
      "metadata": {
        "id": "vNcaQgjQYnal"
      },
      "outputs": [],
      "source": [
        "def generateRoseData():\n",
        "    k=7\n",
        "    pointPerPetal = 100\n",
        "    cutOff = 0.1\n",
        "    r = 4\n",
        "\n",
        "    theta = np.linspace(0,np.pi, pointPerPetal * k)\n",
        "    xx = r * np.cos(k * theta) * np.cos(theta)\n",
        "    yy = r * np.cos(k * theta) * np.sin(theta)\n",
        "    cc = [np.ones(pointPerPetal) if ix % 3 == 0 else np.zeros(pointPerPetal) for ix in np.arange(k)]\n",
        "    cc = np.roll(np.hstack(cc).astype(np.uint8), -pointPerPetal//2)\n",
        "    x = xx[(xx**2 + yy**2)**0.5 > cutOff]\n",
        "    y = yy[(xx**2 + yy**2)**0.5 > cutOff]\n",
        "    col = cc[(xx**2 + yy**2)**0.5 > cutOff]\n",
        "    X = np.vstack([x,y])\n",
        "    Y = np.copy(col).reshape([1, -1])\n",
        "    return X, Y\n",
        "X, Y = generateRoseData()\n",
        "np.savez_compressed('./data/rose/rose.npz', X=X, Y=Y)"
      ]
    },
    {
      "cell_type": "markdown",
      "metadata": {
        "id": "cBlwWwKQYnam"
      },
      "source": [
        "### Processing Andrews CatvNotCat data"
      ]
    },
    {
      "cell_type": "code",
      "execution_count": null,
      "metadata": {
        "id": "2lkHWbzVYnam"
      },
      "outputs": [],
      "source": [
        "# If you get an error here, install h5py via pip3 install h5py\n",
        "import h5py"
      ]
    },
    {
      "cell_type": "code",
      "execution_count": null,
      "metadata": {
        "id": "HUyH9EvUYnam"
      },
      "outputs": [],
      "source": [
        "# Data downloaded from:\n",
        "# https://github.com/ridhimagarg/Cat-vs-Non-cat-Deep-learning-implementation\n",
        "def processCatData():\n",
        "    train_dataset = h5py.File(\"./data/cats/train_catvnoncat.h5\", mode='r')\n",
        "    Xtrain = np.array(train_dataset[\"train_set_x\"])\n",
        "    Y_train = np.array(train_dataset[\"train_set_y\"])\n",
        "    test_dataset = h5py.File(\"./data/cats/test_catvnoncat.h5\", mode='r')\n",
        "    Xtest = np.array(test_dataset[\"test_set_x\"])\n",
        "    Y_test = np.array(test_dataset[\"test_set_y\"])\n",
        "    X_train = Xtrain / 255\n",
        "    X_test = Xtest / 255\n",
        "    X_train = X_train.reshape(209, -1).T\n",
        "    Y_train = Y_train.reshape(-1, 209)\n",
        "    X_test = X_test.reshape(50, -1).T\n",
        "    Y_test = Y_test.reshape(-1, 50)\n",
        "    return X_train, X_test, Y_train, Y_test\n",
        "\n",
        "try:\n",
        "    Xtrain, Xtest, Ytrain, Ytest = processCatData()\n",
        "except:\n",
        "    !pip3 install h5py\n",
        "    print('Run me once again!')\n",
        "else:\n",
        "    np.savez_compressed('./data/cats/cats.npz', Xtrain=Xtrain, Xtest=Xtest, Ytrain=Ytrain, Ytest=Ytest)"
      ]
    },
    {
      "cell_type": "markdown",
      "metadata": {
        "id": "iy2XhQSoYnan"
      },
      "source": [
        "# Credits\n",
        "#### Edwin Solares - Updates to Part 1, Conversion to google colab, conversion to Keras and preprocessing data to work with Kears (Part 2).\n",
        "#### Dennis Bakhuis - Custom ANN class and it's example exercises (Part 1). May the Fourth (be with you) 2020\n",
        "https://linkedin.com/in/dennisbakhuis/ \\\n",
        "https://github.com/dennisbakhuis\n"
      ]
    }
  ],
  "metadata": {
    "kernelspec": {
      "display_name": "Python 3 (ipykernel)",
      "language": "python",
      "name": "python3"
    },
    "language_info": {
      "codemirror_mode": {
        "name": "ipython",
        "version": 3
      },
      "file_extension": ".py",
      "mimetype": "text/x-python",
      "name": "python",
      "nbconvert_exporter": "python",
      "pygments_lexer": "ipython3",
      "version": "3.8.10"
    },
    "colab": {
      "provenance": [],
      "collapsed_sections": [
        "dhTEdM56b3-n",
        "2O9KZgKoYnaP",
        "cTteqw79YnaS",
        "KliNfAWUYnaV",
        "N-xm3KnxYnaW",
        "Jw8S1-8LYnab",
        "NfKWyWNHYnaf",
        "RfHJ4U5UYnai",
        "xUZ99lNyYnal",
        "Pc0AoxY_Ynal",
        "cBlwWwKQYnam"
      ]
    }
  },
  "nbformat": 4,
  "nbformat_minor": 0
}